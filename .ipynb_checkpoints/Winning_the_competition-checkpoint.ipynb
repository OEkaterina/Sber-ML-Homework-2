{
 "cells": [
  {
   "cell_type": "markdown",
   "metadata": {},
   "source": [
    "Привет!\n",
    "\n",
    "Это ноутбук-бейзлайн к конкурсу на каггл: https://www.kaggle.com/t/de1dfe58de894e5f915bbf6749ae2f84\n",
    "\n",
    "Вам нужно постараться улучшить его, чтобы скор на каггле стал побольше =)\n",
    "Тренировочные и тестовые данные лежат рядом с ноутбуком или их можно скачать с каггла."
   ]
  },
  {
   "cell_type": "code",
   "execution_count": 1,
   "metadata": {
    "collapsed": true
   },
   "outputs": [],
   "source": [
    "import numpy as np\n",
    "import pandas as pd"
   ]
  },
  {
   "cell_type": "markdown",
   "metadata": {},
   "source": [
    "## 1. Get data"
   ]
  },
  {
   "cell_type": "markdown",
   "metadata": {},
   "source": [
    "Загрузим данные и посмотрим на них:"
   ]
  },
  {
   "cell_type": "code",
   "execution_count": 2,
   "metadata": {
    "collapsed": false
   },
   "outputs": [
    {
     "data": {
      "text/html": [
       "<div>\n",
       "<table border=\"1\" class=\"dataframe\">\n",
       "  <thead>\n",
       "    <tr style=\"text-align: right;\">\n",
       "      <th></th>\n",
       "      <th>client_id</th>\n",
       "      <th>gender</th>\n",
       "      <th>age</th>\n",
       "      <th>marital_status</th>\n",
       "      <th>job_position</th>\n",
       "      <th>credit_sum</th>\n",
       "      <th>credit_month</th>\n",
       "      <th>tariff_id</th>\n",
       "      <th>score_shk</th>\n",
       "      <th>education</th>\n",
       "      <th>living_region</th>\n",
       "      <th>monthly_income</th>\n",
       "      <th>credit_count</th>\n",
       "      <th>overdue_credit_count</th>\n",
       "      <th>open_account_flg</th>\n",
       "    </tr>\n",
       "  </thead>\n",
       "  <tbody>\n",
       "    <tr>\n",
       "      <th>0</th>\n",
       "      <td>1</td>\n",
       "      <td>M</td>\n",
       "      <td>25</td>\n",
       "      <td>UNM</td>\n",
       "      <td>SPC</td>\n",
       "      <td>26389.0</td>\n",
       "      <td>10</td>\n",
       "      <td>1.32</td>\n",
       "      <td>0.584105</td>\n",
       "      <td>SCH</td>\n",
       "      <td>ОБЛ КУРСКАЯ</td>\n",
       "      <td>35000.0</td>\n",
       "      <td>2.0</td>\n",
       "      <td>0.0</td>\n",
       "      <td>1</td>\n",
       "    </tr>\n",
       "    <tr>\n",
       "      <th>1</th>\n",
       "      <td>2</td>\n",
       "      <td>F</td>\n",
       "      <td>37</td>\n",
       "      <td>MAR</td>\n",
       "      <td>SPC</td>\n",
       "      <td>19588.0</td>\n",
       "      <td>12</td>\n",
       "      <td>1.43</td>\n",
       "      <td>0.718935</td>\n",
       "      <td>SCH</td>\n",
       "      <td>РЕСПУБЛИКА ТАТАРСТАН</td>\n",
       "      <td>15000.0</td>\n",
       "      <td>0.0</td>\n",
       "      <td>0.0</td>\n",
       "      <td>1</td>\n",
       "    </tr>\n",
       "    <tr>\n",
       "      <th>2</th>\n",
       "      <td>3</td>\n",
       "      <td>F</td>\n",
       "      <td>28</td>\n",
       "      <td>UNM</td>\n",
       "      <td>SPC</td>\n",
       "      <td>53669.0</td>\n",
       "      <td>18</td>\n",
       "      <td>1.10</td>\n",
       "      <td>0.586015</td>\n",
       "      <td>GRD</td>\n",
       "      <td>МОСКВА Г</td>\n",
       "      <td>70000.0</td>\n",
       "      <td>4.0</td>\n",
       "      <td>0.0</td>\n",
       "      <td>1</td>\n",
       "    </tr>\n",
       "    <tr>\n",
       "      <th>3</th>\n",
       "      <td>4</td>\n",
       "      <td>M</td>\n",
       "      <td>34</td>\n",
       "      <td>MAR</td>\n",
       "      <td>SPC</td>\n",
       "      <td>26349.0</td>\n",
       "      <td>10</td>\n",
       "      <td>1.43</td>\n",
       "      <td>0.655703</td>\n",
       "      <td>SCH</td>\n",
       "      <td>СВЕРДЛОВСКАЯ ОБЛАСТЬ</td>\n",
       "      <td>42500.0</td>\n",
       "      <td>4.0</td>\n",
       "      <td>0.0</td>\n",
       "      <td>0</td>\n",
       "    </tr>\n",
       "    <tr>\n",
       "      <th>4</th>\n",
       "      <td>5</td>\n",
       "      <td>F</td>\n",
       "      <td>43</td>\n",
       "      <td>MAR</td>\n",
       "      <td>UMN</td>\n",
       "      <td>11589.0</td>\n",
       "      <td>10</td>\n",
       "      <td>1.10</td>\n",
       "      <td>0.271893</td>\n",
       "      <td>GRD</td>\n",
       "      <td>РЯЗАНСКАЯ ОБЛАСТЬ</td>\n",
       "      <td>20000.0</td>\n",
       "      <td>3.0</td>\n",
       "      <td>0.0</td>\n",
       "      <td>0</td>\n",
       "    </tr>\n",
       "  </tbody>\n",
       "</table>\n",
       "</div>"
      ],
      "text/plain": [
       "   client_id gender  age marital_status job_position  credit_sum  \\\n",
       "0          1      M   25            UNM          SPC     26389.0   \n",
       "1          2      F   37            MAR          SPC     19588.0   \n",
       "2          3      F   28            UNM          SPC     53669.0   \n",
       "3          4      M   34            MAR          SPC     26349.0   \n",
       "4          5      F   43            MAR          UMN     11589.0   \n",
       "\n",
       "   credit_month  tariff_id  score_shk education         living_region  \\\n",
       "0            10       1.32   0.584105       SCH           ОБЛ КУРСКАЯ   \n",
       "1            12       1.43   0.718935       SCH  РЕСПУБЛИКА ТАТАРСТАН   \n",
       "2            18       1.10   0.586015       GRD              МОСКВА Г   \n",
       "3            10       1.43   0.655703       SCH  СВЕРДЛОВСКАЯ ОБЛАСТЬ   \n",
       "4            10       1.10   0.271893       GRD     РЯЗАНСКАЯ ОБЛАСТЬ   \n",
       "\n",
       "   monthly_income  credit_count  overdue_credit_count  open_account_flg  \n",
       "0         35000.0           2.0                   0.0                 1  \n",
       "1         15000.0           0.0                   0.0                 1  \n",
       "2         70000.0           4.0                   0.0                 1  \n",
       "3         42500.0           4.0                   0.0                 0  \n",
       "4         20000.0           3.0                   0.0                 0  "
      ]
     },
     "execution_count": 2,
     "metadata": {},
     "output_type": "execute_result"
    }
   ],
   "source": [
    "train_data = pd.read_csv(\"train.csv\")\n",
    "X_test = pd.read_csv(\"test.csv\")\n",
    "train_data.head()"
   ]
  },
  {
   "cell_type": "markdown",
   "metadata": {},
   "source": [
    "**client_id** - и так понятно<br>\n",
    "**gender** - Пол M/F<br>\n",
    "**age** - Возраст<br>\n",
    "**marital_status** - семейное положение MAR - женат/замужен и UNM - не женат/не замужем<br>\n",
    "**job_position** - должность<br>\n",
    "**credit_sum** - сумма кредита<br>\n",
    "**credit_month** - срок кредита в месяцах<br>\n",
    "**tariff_id** - id кредитной программы<br>\n",
    "**score_shk** - кредитныый рейтинг заёмщика<br>\n",
    "**education** - образование<br>\n",
    "**living_region** - регион проживания<br>\n",
    "**monthly_income** - месячный доход заёмщика<br>\n",
    "**credit_count** - количество кредитов<br>\n",
    "**overdue_credit_count** - наличие просроченного кредита<br>\n",
    "**open_account_flg** - целевой признак y - выберет ли человек наш банк 1 или нет 0"
   ]
  },
  {
   "cell_type": "code",
   "execution_count": 3,
   "metadata": {
    "collapsed": true
   },
   "outputs": [],
   "source": [
    "X_train, y_train = train_data.drop(\"open_account_flg\", axis=1), train_data[\"open_account_flg\"]"
   ]
  },
  {
   "cell_type": "markdown",
   "metadata": {},
   "source": [
    "## 2. Preprocessing"
   ]
  },
  {
   "cell_type": "markdown",
   "metadata": {},
   "source": [
    "проверим в каких признаках есть пропуски - в признаках **living_region**, **credit_count**, **overdue_credit_count** - осуществим обработку пропусков ниже"
   ]
  },
  {
   "cell_type": "code",
   "execution_count": 5,
   "metadata": {
    "collapsed": false,
    "scrolled": false
   },
   "outputs": [
    {
     "data": {
      "text/plain": [
       "client_id               False\n",
       "gender                  False\n",
       "age                     False\n",
       "marital_status          False\n",
       "job_position            False\n",
       "credit_sum              False\n",
       "credit_month            False\n",
       "tariff_id               False\n",
       "score_shk               False\n",
       "education               False\n",
       "living_region            True\n",
       "monthly_income          False\n",
       "credit_count             True\n",
       "overdue_credit_count     True\n",
       "open_account_flg        False\n",
       "dtype: bool"
      ]
     },
     "execution_count": 5,
     "metadata": {},
     "output_type": "execute_result"
    }
   ],
   "source": [
    "train_data.isnull().any()"
   ]
  },
  {
   "cell_type": "code",
   "execution_count": 29,
   "metadata": {
    "collapsed": false
   },
   "outputs": [
    {
     "data": {
      "text/plain": [
       "client_id                   False\n",
       "gender                      False\n",
       "age                         False\n",
       "marital_status              False\n",
       "job_position                False\n",
       "credit_sum                  False\n",
       "credit_month                False\n",
       "tariff_id                   False\n",
       "score_shk                   False\n",
       "education                   False\n",
       "living_region               False\n",
       "monthly_income               True\n",
       "credit_count                False\n",
       "overdue_credit_count        False\n",
       "credit_count_NaN            False\n",
       "overdue_credit_count_NaN    False\n",
       "dtype: bool"
      ]
     },
     "execution_count": 29,
     "metadata": {},
     "output_type": "execute_result"
    }
   ],
   "source": [
    "X_test.isnull().any()"
   ]
  },
  {
   "cell_type": "markdown",
   "metadata": {},
   "source": [
    "#### fill nans in \"living region\" - заменяем пропуски в признаке \"living_region\" на самое популярное значение региона - \"ОБЛ МОСКОВСКАЯ\""
   ]
  },
  {
   "cell_type": "code",
   "execution_count": 15,
   "metadata": {
    "collapsed": false,
    "scrolled": true
   },
   "outputs": [
    {
     "data": {
      "text/plain": [
       "ОБЛ МОСКОВСКАЯ                              8564\n",
       "КРАСНОДАРСКИЙ КРАЙ                          5176\n",
       "САНКТ-ПЕТЕРБУРГ                             3968\n",
       "МОСКВА                                      3821\n",
       "ТАТАРСТАН РЕСП                              3635\n",
       "РЕСП БАШКОРТОСТАН                           3358\n",
       "ОБЛ ИРКУТСКАЯ                               2863\n",
       "СВЕРДЛОВСКАЯ ОБЛ                            2782\n",
       "МОСКВА Г                                    2509\n",
       "ОБЛ НИЖЕГОРОДСКАЯ                           2504\n",
       "ОБЛ ЛЕНИНГРАДСКАЯ                           2235\n",
       "РОСТОВСКАЯ ОБЛ                              2111\n",
       "КРАСНОЯРСКИЙ КРАЙ                           2087\n",
       "ЧЕЛЯБИНСКАЯ ОБЛ                             2047\n",
       "ОБЛ САМАРСКАЯ                               2034\n",
       "ОБЛ КЕМЕРОВСКАЯ                             1993\n",
       "ПЕРМСКИЙ КРАЙ                               1930\n",
       "САНКТ-ПЕТЕРБУРГ Г                           1866\n",
       "КРАЙ СТАВРОПОЛЬСКИЙ                         1833\n",
       "ОБЛ ВОЛОГОДСКАЯ                             1756\n",
       "ОБЛ АСТРАХАНСКАЯ                            1756\n",
       "ОБЛ ВОЛГОГРАДСКАЯ                           1587\n",
       "ХАНТЫ-МАНСИЙСКИЙ АВТОНОМНЫЙ ОКРУГ - ЮГРА    1575\n",
       "РЕСПУБЛИКА ТАТАРСТАН                        1513\n",
       "ОБЛ НОВОСИБИРСКАЯ                           1496\n",
       "СВЕРДЛОВСКАЯ ОБЛАСТЬ                        1410\n",
       "СТАВРОПОЛЬСКИЙ КРАЙ                         1395\n",
       "ЯМАЛО-НЕНЕЦКИЙ АО                           1249\n",
       "ОБЛ АРХАНГЕЛЬСКАЯ                           1204\n",
       "ОБЛ ВОРОНЕЖСКАЯ                             1172\n",
       "                                            ... \n",
       "КИРОВСКАЯ ОБЛАСТЬ                              1\n",
       "ОБЛ.САРАТОВСКАЯ                                1\n",
       "РОССИЯ                                         1\n",
       "АРХАНГЕЛЬСКАЯ                                  1\n",
       "ТЮМЕНСКАЯ                                      1\n",
       "КАЛМЫКИЯ                                       1\n",
       "ЧУВАШСКАЯ РЕСП                                 1\n",
       "НОВОСИБИРСКАЯ                                  1\n",
       "74                                             1\n",
       "МЫТИЩИНСКИЙ Р-Н                                1\n",
       "МАГАДАНСКАЯ ОБЛАСТЬ                            1\n",
       "Г.МОСКВА                                       1\n",
       "РЕСП ЧУВАШСКАЯ - ЧУВАШИЯ                       1\n",
       "ВОЛОГОДСКАЯ ОБЛ.                               1\n",
       "ОБЛ. КУРГАНСКАЯ                                1\n",
       "ПЕРМСКИЙ                                       1\n",
       "КАЛИНИНГРАДСКАЯ ОБЛ.                           1\n",
       "РЕСП. КОМИ                                     1\n",
       "ТОМСКАЯ                                        1\n",
       "ОБЛ.НИЖЕГОРОДСКАЯ                              1\n",
       "ОРЁЛ                                           1\n",
       "СВЕРДЛОВСКАЯ                                   1\n",
       "БРЯНСКИЙ                                       1\n",
       "КАЛУЖСКАЯ                                      1\n",
       "ОМСКАЯ                                         1\n",
       "ИНГУШЕТИЯ РЕСП                                 1\n",
       "98                                             1\n",
       "ОБЛ. СВЕРДЛОВСКАЯ                              1\n",
       "КАРЕЛИЯ                                        1\n",
       "КОМИ                                           1\n",
       "Name: living_region, dtype: int64"
      ]
     },
     "execution_count": 15,
     "metadata": {},
     "output_type": "execute_result"
    }
   ],
   "source": [
    "X_train[\"living_region\"].value_counts()"
   ]
  },
  {
   "cell_type": "markdown",
   "metadata": {},
   "source": [
    "^ действительно, какой еще самый частый регион можно было ожидать. "
   ]
  },
  {
   "cell_type": "code",
   "execution_count": 16,
   "metadata": {
    "collapsed": true
   },
   "outputs": [],
   "source": [
    "X_train[\"living_region\"].fillna(\"ОБЛ МОСКОВСКАЯ\", inplace=True) # не забываем ставить флаг inplace=True чтобы внести изменения в X_train"
   ]
  },
  {
   "cell_type": "markdown",
   "metadata": {},
   "source": [
    "**Перед заменой пропусков в \"credit_count\" создадим дополнительный бинарный признак где покажем объекты с пропусками в \"credit_count\"**"
   ]
  },
  {
   "cell_type": "code",
   "execution_count": 17,
   "metadata": {
    "collapsed": false
   },
   "outputs": [
    {
     "data": {
      "text/plain": [
       "0    113032\n",
       "1      6486\n",
       "Name: credit_count_NaN, dtype: int64"
      ]
     },
     "execution_count": 17,
     "metadata": {},
     "output_type": "execute_result"
    }
   ],
   "source": [
    "X_train['credit_count_NaN'] = X_train['credit_count'].apply(lambda n: 1 if pd.isnull(n) else 0)\n",
    "X_train['credit_count_NaN'].value_counts()"
   ]
  },
  {
   "cell_type": "markdown",
   "metadata": {},
   "source": [
    "**Чтобы потом не забыть сделаем то же самое и с тестовой частью**"
   ]
  },
  {
   "cell_type": "code",
   "execution_count": 21,
   "metadata": {
    "collapsed": false
   },
   "outputs": [
    {
     "data": {
      "text/plain": [
       "0    48479\n",
       "1     2743\n",
       "Name: credit_count_NaN, dtype: int64"
      ]
     },
     "execution_count": 21,
     "metadata": {},
     "output_type": "execute_result"
    }
   ],
   "source": [
    "X_test['credit_count_NaN'] = X_test['credit_count'].apply(lambda n: 1 if pd.isnull(n) else 0)\n",
    "X_test['credit_count_NaN'].value_counts()"
   ]
  },
  {
   "cell_type": "markdown",
   "metadata": {},
   "source": [
    "**Заменяем пропуски в \"living_region\" и для тестовой части"
   ]
  },
  {
   "cell_type": "code",
   "execution_count": 22,
   "metadata": {
    "collapsed": true
   },
   "outputs": [],
   "source": [
    "X_test[\"living_region\"].fillna(\"ОБЛ МОСКОВСКАЯ\", inplace=True) # не забываем ставить флаг inplace=True чтобы внести изменения в X_train"
   ]
  },
  {
   "cell_type": "markdown",
   "metadata": {},
   "source": [
    "#### fill nans in \"credit_count\" - заменяем пропуски в признаке \"credit_count\" на самое популярное значение кол-ва кредитов - \"1\""
   ]
  },
  {
   "cell_type": "code",
   "execution_count": 18,
   "metadata": {
    "collapsed": false
   },
   "outputs": [
    {
     "data": {
      "text/plain": [
       "1.0     31714\n",
       "2.0     25799\n",
       "0.0     18219\n",
       "3.0     16707\n",
       "4.0      9826\n",
       "5.0      5285\n",
       "6.0      2760\n",
       "7.0      1345\n",
       "8.0       707\n",
       "9.0       326\n",
       "10.0      141\n",
       "11.0       90\n",
       "12.0       56\n",
       "13.0       25\n",
       "14.0       12\n",
       "15.0       10\n",
       "17.0        4\n",
       "19.0        3\n",
       "16.0        2\n",
       "18.0        1\n",
       "Name: credit_count, dtype: int64"
      ]
     },
     "execution_count": 18,
     "metadata": {},
     "output_type": "execute_result"
    }
   ],
   "source": [
    "X_train[\"credit_count\"].value_counts()"
   ]
  },
  {
   "cell_type": "code",
   "execution_count": 23,
   "metadata": {
    "collapsed": true
   },
   "outputs": [],
   "source": [
    "X_train[\"credit_count\"].fillna(1., inplace=True) # не забываем ставить флаг inplace=True чтобы внести изменения в X_train"
   ]
  },
  {
   "cell_type": "markdown",
   "metadata": {},
   "source": [
    "**Для тестовой части делаем то же самоей**"
   ]
  },
  {
   "cell_type": "code",
   "execution_count": 24,
   "metadata": {
    "collapsed": true
   },
   "outputs": [],
   "source": [
    "X_test[\"credit_count\"].fillna(1., inplace=True) # не забываем ставить флаг inplace=True чтобы внести изменения в X_train"
   ]
  },
  {
   "cell_type": "markdown",
   "metadata": {},
   "source": [
    "**Перед заменой пропусков в \"overdue_credit_count\" создадим дополнительный бинарный признак где покажем объекты с пропусками в \"overdue_credit_count\"**"
   ]
  },
  {
   "cell_type": "code",
   "execution_count": 25,
   "metadata": {
    "collapsed": false
   },
   "outputs": [
    {
     "data": {
      "text/plain": [
       "0    113032\n",
       "1      6486\n",
       "Name: overdue_credit_count_NaN, dtype: int64"
      ]
     },
     "execution_count": 25,
     "metadata": {},
     "output_type": "execute_result"
    }
   ],
   "source": [
    "X_train['overdue_credit_count_NaN'] = X_train['overdue_credit_count'].apply(lambda n: 1 if pd.isnull(n) else 0)\n",
    "X_train['overdue_credit_count_NaN'].value_counts()"
   ]
  },
  {
   "cell_type": "markdown",
   "metadata": {},
   "source": [
    "**Для тестовой части делаем то же самоей**"
   ]
  },
  {
   "cell_type": "code",
   "execution_count": 26,
   "metadata": {
    "collapsed": false
   },
   "outputs": [
    {
     "data": {
      "text/plain": [
       "0    48479\n",
       "1     2743\n",
       "Name: overdue_credit_count_NaN, dtype: int64"
      ]
     },
     "execution_count": 26,
     "metadata": {},
     "output_type": "execute_result"
    }
   ],
   "source": [
    "X_test['overdue_credit_count_NaN'] = X_test['overdue_credit_count'].apply(lambda n: 1 if pd.isnull(n) else 0)\n",
    "X_test['overdue_credit_count_NaN'].value_counts()"
   ]
  },
  {
   "cell_type": "markdown",
   "metadata": {},
   "source": [
    "#### fill nans in \"overdue_credit_count\" - заменяем пропуски в признаке \"overdue_credit_count\" на самое популярное значение кол-ва просрочненных кредитов - \"0.0\" - сразу и для обучающей и для тестовой части"
   ]
  },
  {
   "cell_type": "code",
   "execution_count": 12,
   "metadata": {
    "collapsed": false
   },
   "outputs": [
    {
     "data": {
      "text/plain": [
       "0.0    107812\n",
       "1.0      5180\n",
       "2.0        36\n",
       "3.0         4\n",
       "Name: overdue_credit_count, dtype: int64"
      ]
     },
     "execution_count": 12,
     "metadata": {},
     "output_type": "execute_result"
    }
   ],
   "source": [
    "X_train[\"overdue_credit_count\"].value_counts()"
   ]
  },
  {
   "cell_type": "code",
   "execution_count": 27,
   "metadata": {
    "collapsed": false
   },
   "outputs": [
    {
     "data": {
      "text/plain": [
       "0.0    46318\n",
       "1.0     2146\n",
       "2.0       14\n",
       "3.0        1\n",
       "Name: overdue_credit_count, dtype: int64"
      ]
     },
     "execution_count": 27,
     "metadata": {},
     "output_type": "execute_result"
    }
   ],
   "source": [
    "X_test[\"overdue_credit_count\"].value_counts()"
   ]
  },
  {
   "cell_type": "code",
   "execution_count": 28,
   "metadata": {
    "collapsed": true
   },
   "outputs": [],
   "source": [
    "X_train[\"overdue_credit_count\"].fillna(0., inplace=True) # не забываем ставить флаг inplace=True чтобы внести изменения в X_train\n",
    "X_test[\"overdue_credit_count\"].fillna(0., inplace=True) # не забываем ставить флаг inplace=True чтобы внести изменения в X_train"
   ]
  },
  {
   "cell_type": "markdown",
   "metadata": {},
   "source": [
    "**Перед заменой пропусков в \"monthly income\" создадим дополнительный бинарный признак где покажем объекты с пропусками в \"monthly income\"** - в тесте и трейне"
   ]
  },
  {
   "cell_type": "code",
   "execution_count": 30,
   "metadata": {
    "collapsed": false
   },
   "outputs": [
    {
     "data": {
      "text/plain": [
       "0    119518\n",
       "Name: monthly_income_NaN, dtype: int64"
      ]
     },
     "execution_count": 30,
     "metadata": {},
     "output_type": "execute_result"
    }
   ],
   "source": [
    "X_train['monthly_income_NaN'] = X_train['monthly_income'].apply(lambda n: 1 if pd.isnull(n) else 0)\n",
    "X_train['monthly_income_NaN'].value_counts()"
   ]
  },
  {
   "cell_type": "code",
   "execution_count": 32,
   "metadata": {
    "collapsed": false
   },
   "outputs": [
    {
     "data": {
      "text/plain": [
       "0    51221\n",
       "1        1\n",
       "Name: monthly_income_NaN, dtype: int64"
      ]
     },
     "execution_count": 32,
     "metadata": {},
     "output_type": "execute_result"
    }
   ],
   "source": [
    "X_test['monthly_income_NaN'] = X_test['monthly_income'].apply(lambda n: 1 if pd.isnull(n) else 0)\n",
    "X_test['monthly_income_NaN'].value_counts()"
   ]
  },
  {
   "cell_type": "markdown",
   "metadata": {},
   "source": [
    "#### fill nans in \"monthly income\" - заменяем пропуски в признаке \"monthly_income\" на значение медианы этого признака, равное 35000.0"
   ]
  },
  {
   "cell_type": "markdown",
   "metadata": {},
   "source": [
    "в трейне нет пропусков, заменяем в тесте"
   ]
  },
  {
   "cell_type": "code",
   "execution_count": 33,
   "metadata": {
    "collapsed": false
   },
   "outputs": [
    {
     "data": {
      "text/plain": [
       "35000.0"
      ]
     },
     "execution_count": 33,
     "metadata": {},
     "output_type": "execute_result"
    }
   ],
   "source": [
    "X_test[\"monthly_income\"].median()"
   ]
  },
  {
   "cell_type": "code",
   "execution_count": 34,
   "metadata": {
    "collapsed": true
   },
   "outputs": [],
   "source": [
    "X_test[\"monthly_income\"].fillna(X_test[\"monthly_income\"].median(), inplace=True) \n",
    "# не забываем ставить флаг inplace=True чтобы внести изменения в X_train"
   ]
  },
  {
   "cell_type": "markdown",
   "metadata": {},
   "source": [
    "### Dealing with categorical features - Работа с категориальными признаками"
   ]
  },
  {
   "cell_type": "markdown",
   "metadata": {},
   "source": [
    "#### In a baseline lets delete \"living_region\" feature as its categorical and has too many values - В исходном состоянии можно исключить признак «living_region» так как он категориальный и имеет слишком много уникальных значений (не даёт прироста информации и не уменьшает энтропию - проверять мы это конечно не будем)"
   ]
  },
  {
   "cell_type": "markdown",
   "metadata": {},
   "source": [
    "чтобы потом не запутаться делаем синхронно для трейна и для теста"
   ]
  },
  {
   "cell_type": "code",
   "execution_count": 35,
   "metadata": {
    "collapsed": true
   },
   "outputs": [],
   "source": [
    "X_train.drop(\"living_region\", axis=1, inplace=True)\n",
    "X_test.drop(\"living_region\", axis=1, inplace=True)"
   ]
  },
  {
   "cell_type": "markdown",
   "metadata": {},
   "source": [
    "**Для повышения точности сделаем формирование новых признаков из всех вариантов попарного соотношения категориальных признаков**"
   ]
  },
  {
   "cell_type": "markdown",
   "metadata": {},
   "source": [
    "Для избежания различий в количество сформированных новых признаков в трейне и тесте - сначала объеденим обучающую и тестовую часть, не забыв запомнить индекс по которому мы далее вновь их разделим"
   ]
  },
  {
   "cell_type": "code",
   "execution_count": 36,
   "metadata": {
    "collapsed": false
   },
   "outputs": [
    {
     "data": {
      "text/html": [
       "<div>\n",
       "<table border=\"1\" class=\"dataframe\">\n",
       "  <thead>\n",
       "    <tr style=\"text-align: right;\">\n",
       "      <th></th>\n",
       "      <th>client_id</th>\n",
       "      <th>gender</th>\n",
       "      <th>age</th>\n",
       "      <th>marital_status</th>\n",
       "      <th>job_position</th>\n",
       "      <th>credit_sum</th>\n",
       "      <th>credit_month</th>\n",
       "      <th>tariff_id</th>\n",
       "      <th>score_shk</th>\n",
       "      <th>education</th>\n",
       "      <th>monthly_income</th>\n",
       "      <th>credit_count</th>\n",
       "      <th>overdue_credit_count</th>\n",
       "      <th>credit_count_NaN</th>\n",
       "      <th>overdue_credit_count_NaN</th>\n",
       "      <th>monthly_income_NaN</th>\n",
       "    </tr>\n",
       "  </thead>\n",
       "  <tbody>\n",
       "    <tr>\n",
       "      <th>119517</th>\n",
       "      <td>119518</td>\n",
       "      <td>M</td>\n",
       "      <td>31</td>\n",
       "      <td>MAR</td>\n",
       "      <td>UMN</td>\n",
       "      <td>55958.0</td>\n",
       "      <td>10</td>\n",
       "      <td>1.1</td>\n",
       "      <td>0.424173</td>\n",
       "      <td>GRD</td>\n",
       "      <td>75000.0</td>\n",
       "      <td>2.0</td>\n",
       "      <td>0.0</td>\n",
       "      <td>0</td>\n",
       "      <td>0</td>\n",
       "      <td>0</td>\n",
       "    </tr>\n",
       "  </tbody>\n",
       "</table>\n",
       "</div>"
      ],
      "text/plain": [
       "        client_id gender  age marital_status job_position  credit_sum  \\\n",
       "119517     119518      M   31            MAR          UMN     55958.0   \n",
       "\n",
       "        credit_month  tariff_id  score_shk education  monthly_income  \\\n",
       "119517            10        1.1   0.424173       GRD         75000.0   \n",
       "\n",
       "        credit_count  overdue_credit_count  credit_count_NaN  \\\n",
       "119517           2.0                   0.0                 0   \n",
       "\n",
       "        overdue_credit_count_NaN  monthly_income_NaN  \n",
       "119517                         0                   0  "
      ]
     },
     "execution_count": 36,
     "metadata": {},
     "output_type": "execute_result"
    }
   ],
   "source": [
    "X_train[119517:119518] #запоминает id клиента, по которому далее будем делить обучающую и тестовую часто после кодирования\n",
    "#числовых признаков"
   ]
  },
  {
   "cell_type": "code",
   "execution_count": 38,
   "metadata": {
    "collapsed": false
   },
   "outputs": [
    {
     "data": {
      "text/plain": [
       "(170740, 16)"
      ]
     },
     "execution_count": 38,
     "metadata": {},
     "output_type": "execute_result"
    }
   ],
   "source": [
    "all = X_train.append(X_test)\n",
    "all.shape"
   ]
  },
  {
   "cell_type": "markdown",
   "metadata": {},
   "source": [
    "создадим список куда выберем названия только категориальных признаков"
   ]
  },
  {
   "cell_type": "code",
   "execution_count": 39,
   "metadata": {
    "collapsed": false
   },
   "outputs": [
    {
     "data": {
      "text/plain": [
       "['gender', 'marital_status', 'education', 'job_position']"
      ]
     },
     "execution_count": 39,
     "metadata": {},
     "output_type": "execute_result"
    }
   ],
   "source": [
    "all_copy = all.copy()\n",
    "cat_features_all_copy = [i[0] for i in dict(all_copy.dtypes).items() if 'obj' in str(i[1])]\n",
    "cat_features_all_copy"
   ]
  },
  {
   "cell_type": "code",
   "execution_count": 40,
   "metadata": {
    "collapsed": false
   },
   "outputs": [
    {
     "name": "stdout",
     "output_type": "stream",
     "text": [
      "<class 'pandas.core.frame.DataFrame'>\n",
      "Int64Index: 170740 entries, 0 to 51221\n",
      "Data columns (total 16 columns):\n",
      "client_id                   170740 non-null int64\n",
      "gender                      170740 non-null object\n",
      "age                         170740 non-null int64\n",
      "marital_status              170740 non-null object\n",
      "job_position                170740 non-null object\n",
      "credit_sum                  170740 non-null float64\n",
      "credit_month                170740 non-null int64\n",
      "tariff_id                   170740 non-null float64\n",
      "score_shk                   170740 non-null float64\n",
      "education                   170740 non-null object\n",
      "monthly_income              170740 non-null float64\n",
      "credit_count                170740 non-null float64\n",
      "overdue_credit_count        170740 non-null float64\n",
      "credit_count_NaN            170740 non-null int64\n",
      "overdue_credit_count_NaN    170740 non-null int64\n",
      "monthly_income_NaN          170740 non-null int64\n",
      "dtypes: float64(6), int64(6), object(4)\n",
      "memory usage: 22.1+ MB\n"
     ]
    }
   ],
   "source": [
    "all_copy.info()"
   ]
  },
  {
   "cell_type": "markdown",
   "metadata": {},
   "source": [
    "и непосредственно создаём новые признаки из всех вариантов попарного соотношения всех категориальных"
   ]
  },
  {
   "cell_type": "code",
   "execution_count": 41,
   "metadata": {
    "collapsed": true
   },
   "outputs": [],
   "source": [
    "for i, col1 in enumerate(cat_features_all_copy):\n",
    "    for j, col2 in enumerate(cat_features_all_copy[i + 1:]):\n",
    "        all_copy[col1 + '_' + col2] = all_copy[col1] + '_' + all_copy[col2]"
   ]
  },
  {
   "cell_type": "markdown",
   "metadata": {},
   "source": [
    "получаем из 4 категориальных признаков 6 новых категориальных признаков (их соотношения между собой)\n",
    "всего у нас теперь 22 признака, 10 из которых категориальные"
   ]
  },
  {
   "cell_type": "code",
   "execution_count": 42,
   "metadata": {
    "collapsed": false
   },
   "outputs": [
    {
     "data": {
      "text/plain": [
       "(170740, 22)"
      ]
     },
     "execution_count": 42,
     "metadata": {},
     "output_type": "execute_result"
    }
   ],
   "source": [
    "all_copy.shape"
   ]
  },
  {
   "cell_type": "code",
   "execution_count": 44,
   "metadata": {
    "collapsed": false,
    "scrolled": false
   },
   "outputs": [
    {
     "name": "stdout",
     "output_type": "stream",
     "text": [
      "<class 'pandas.core.frame.DataFrame'>\n",
      "Int64Index: 170740 entries, 0 to 51221\n",
      "Data columns (total 22 columns):\n",
      "client_id                      170740 non-null int64\n",
      "gender                         170740 non-null object\n",
      "age                            170740 non-null int64\n",
      "marital_status                 170740 non-null object\n",
      "job_position                   170740 non-null object\n",
      "credit_sum                     170740 non-null float64\n",
      "credit_month                   170740 non-null int64\n",
      "tariff_id                      170740 non-null float64\n",
      "score_shk                      170740 non-null float64\n",
      "education                      170740 non-null object\n",
      "monthly_income                 170740 non-null float64\n",
      "credit_count                   170740 non-null float64\n",
      "overdue_credit_count           170740 non-null float64\n",
      "credit_count_NaN               170740 non-null int64\n",
      "overdue_credit_count_NaN       170740 non-null int64\n",
      "monthly_income_NaN             170740 non-null int64\n",
      "gender_marital_status          170740 non-null object\n",
      "gender_education               170740 non-null object\n",
      "gender_job_position            170740 non-null object\n",
      "marital_status_education       170740 non-null object\n",
      "marital_status_job_position    170740 non-null object\n",
      "education_job_position         170740 non-null object\n",
      "dtypes: float64(6), int64(6), object(10)\n",
      "memory usage: 30.0+ MB\n"
     ]
    }
   ],
   "source": [
    "all_copy.info()"
   ]
  },
  {
   "cell_type": "markdown",
   "metadata": {},
   "source": [
    "**Много хороших дополнительных признаков не бывает, создадим ещё один** - для этого посмотрим визуально на соотношение Возраста и целевого признака"
   ]
  },
  {
   "cell_type": "code",
   "execution_count": 45,
   "metadata": {
    "collapsed": false
   },
   "outputs": [
    {
     "data": {
      "image/png": "[encoded data removed]",
      "text/plain": [
       "<matplotlib.figure.Figure at 0x1ab377a0400>"
      ]
     },
     "metadata": {},
     "output_type": "display_data"
    }
   ],
   "source": [
    "plt.subplots(figsize=(20,10))\n",
    "sns.countplot(x='age', hue='open_account_flg', data=train_data);"
   ]
  },
  {
   "cell_type": "markdown",
   "metadata": {},
   "source": [
    "Замечаем, что для клиентов с возрастом до 20 лет включительно имеется хороше соотношение в целевом признаке - создадим новый бинарный признак, который показывает клиентов с возрастом до 20 лет включительно"
   ]
  },
  {
   "cell_type": "code",
   "execution_count": 46,
   "metadata": {
    "collapsed": false
   },
   "outputs": [
    {
     "data": {
      "text/plain": [
       "0    169145\n",
       "1      1595\n",
       "Name: age_young, dtype: int64"
      ]
     },
     "execution_count": 46,
     "metadata": {},
     "output_type": "execute_result"
    }
   ],
   "source": [
    "all_copy['age_young'] = all_copy['age'].apply(lambda n: 1 if n<= 20 else 0)\n",
    "all_copy['age_young'].value_counts()"
   ]
  },
  {
   "cell_type": "markdown",
   "metadata": {},
   "source": [
    "Известно, что библиотека реализации градиентного бустинга CatBoost хорошо работает \"из коробки\" с категориальными признаками, попробуем обучить модель и отправить результаты прогноза для тестовой части на Kaggle"
   ]
  },
  {
   "cell_type": "code",
   "execution_count": 47,
   "metadata": {
    "collapsed": false
   },
   "outputs": [
    {
     "data": {
      "text/plain": [
       "['gender',\n",
       " 'gender_job_position',\n",
       " 'education_job_position',\n",
       " 'marital_status_job_position',\n",
       " 'marital_status_education',\n",
       " 'marital_status',\n",
       " 'education',\n",
       " 'gender_education',\n",
       " 'gender_marital_status',\n",
       " 'job_position']"
      ]
     },
     "execution_count": 47,
     "metadata": {},
     "output_type": "execute_result"
    }
   ],
   "source": [
    "#сохраняем список с номерами категориальных признаков чтобы указать на них\n",
    "cat_features_for_catboost = [i[0] for i in dict(all_copy.dtypes).items() if 'obj' in str(i[1])]\n",
    "cat_features_for_catboost"
   ]
  },
  {
   "cell_type": "code",
   "execution_count": 58,
   "metadata": {
    "collapsed": false
   },
   "outputs": [
    {
     "data": {
      "text/plain": [
       "Index(['client_id', 'gender', 'age', 'marital_status', 'job_position',\n",
       "       'credit_sum', 'credit_month', 'tariff_id', 'score_shk', 'education',\n",
       "       'monthly_income', 'credit_count', 'overdue_credit_count',\n",
       "       'credit_count_NaN', 'overdue_credit_count_NaN', 'monthly_income_NaN',\n",
       "       'gender_marital_status', 'gender_education', 'gender_job_position',\n",
       "       'marital_status_education', 'marital_status_job_position',\n",
       "       'education_job_position', 'age_young'],\n",
       "      dtype='object')"
      ]
     },
     "execution_count": 58,
     "metadata": {},
     "output_type": "execute_result"
    }
   ],
   "source": [
    "all_copy.columns"
   ]
  },
  {
   "cell_type": "code",
   "execution_count": 60,
   "metadata": {
    "collapsed": false
   },
   "outputs": [
    {
     "data": {
      "text/plain": [
       "[1, 18, 21, 20, 19, 3, 9, 17, 16, 4]"
      ]
     },
     "execution_count": 60,
     "metadata": {},
     "output_type": "execute_result"
    }
   ],
   "source": [
    "num_cat_feat = list(all_copy.columns.get_indexer(cat_features_for_catboost))\n",
    "num_cat_feat"
   ]
  },
  {
   "cell_type": "markdown",
   "metadata": {},
   "source": [
    "Разделяем all_copy назад на обучающую и тестовую выборку по id, который мы ранее запомнили"
   ]
  },
  {
   "cell_type": "code",
   "execution_count": 62,
   "metadata": {
    "collapsed": false
   },
   "outputs": [
    {
     "data": {
      "text/html": [
       "<div>\n",
       "<table border=\"1\" class=\"dataframe\">\n",
       "  <thead>\n",
       "    <tr style=\"text-align: right;\">\n",
       "      <th></th>\n",
       "      <th>client_id</th>\n",
       "      <th>gender</th>\n",
       "      <th>age</th>\n",
       "      <th>marital_status</th>\n",
       "      <th>job_position</th>\n",
       "      <th>credit_sum</th>\n",
       "      <th>credit_month</th>\n",
       "      <th>tariff_id</th>\n",
       "      <th>score_shk</th>\n",
       "      <th>education</th>\n",
       "      <th>...</th>\n",
       "      <th>credit_count_NaN</th>\n",
       "      <th>overdue_credit_count_NaN</th>\n",
       "      <th>monthly_income_NaN</th>\n",
       "      <th>gender_marital_status</th>\n",
       "      <th>gender_education</th>\n",
       "      <th>gender_job_position</th>\n",
       "      <th>marital_status_education</th>\n",
       "      <th>marital_status_job_position</th>\n",
       "      <th>education_job_position</th>\n",
       "      <th>age_young</th>\n",
       "    </tr>\n",
       "  </thead>\n",
       "  <tbody>\n",
       "    <tr>\n",
       "      <th>0</th>\n",
       "      <td>119519</td>\n",
       "      <td>F</td>\n",
       "      <td>24</td>\n",
       "      <td>MAR</td>\n",
       "      <td>SPC</td>\n",
       "      <td>28429.0</td>\n",
       "      <td>18</td>\n",
       "      <td>1.10</td>\n",
       "      <td>0.593836</td>\n",
       "      <td>GRD</td>\n",
       "      <td>...</td>\n",
       "      <td>0</td>\n",
       "      <td>0</td>\n",
       "      <td>0</td>\n",
       "      <td>F_MAR</td>\n",
       "      <td>F_GRD</td>\n",
       "      <td>F_SPC</td>\n",
       "      <td>MAR_GRD</td>\n",
       "      <td>MAR_SPC</td>\n",
       "      <td>GRD_SPC</td>\n",
       "      <td>0</td>\n",
       "    </tr>\n",
       "    <tr>\n",
       "      <th>1</th>\n",
       "      <td>119520</td>\n",
       "      <td>M</td>\n",
       "      <td>25</td>\n",
       "      <td>UNM</td>\n",
       "      <td>SPC</td>\n",
       "      <td>15997.0</td>\n",
       "      <td>10</td>\n",
       "      <td>1.60</td>\n",
       "      <td>0.615015</td>\n",
       "      <td>SCH</td>\n",
       "      <td>...</td>\n",
       "      <td>0</td>\n",
       "      <td>0</td>\n",
       "      <td>0</td>\n",
       "      <td>M_UNM</td>\n",
       "      <td>M_SCH</td>\n",
       "      <td>M_SPC</td>\n",
       "      <td>UNM_SCH</td>\n",
       "      <td>UNM_SPC</td>\n",
       "      <td>SCH_SPC</td>\n",
       "      <td>0</td>\n",
       "    </tr>\n",
       "    <tr>\n",
       "      <th>2</th>\n",
       "      <td>119521</td>\n",
       "      <td>M</td>\n",
       "      <td>25</td>\n",
       "      <td>UNM</td>\n",
       "      <td>SPC</td>\n",
       "      <td>11043.0</td>\n",
       "      <td>10</td>\n",
       "      <td>1.16</td>\n",
       "      <td>0.666758</td>\n",
       "      <td>SCH</td>\n",
       "      <td>...</td>\n",
       "      <td>0</td>\n",
       "      <td>0</td>\n",
       "      <td>0</td>\n",
       "      <td>M_UNM</td>\n",
       "      <td>M_SCH</td>\n",
       "      <td>M_SPC</td>\n",
       "      <td>UNM_SCH</td>\n",
       "      <td>UNM_SPC</td>\n",
       "      <td>SCH_SPC</td>\n",
       "      <td>0</td>\n",
       "    </tr>\n",
       "    <tr>\n",
       "      <th>3</th>\n",
       "      <td>119522</td>\n",
       "      <td>F</td>\n",
       "      <td>34</td>\n",
       "      <td>MAR</td>\n",
       "      <td>SPC</td>\n",
       "      <td>14617.0</td>\n",
       "      <td>10</td>\n",
       "      <td>1.40</td>\n",
       "      <td>0.447745</td>\n",
       "      <td>GRD</td>\n",
       "      <td>...</td>\n",
       "      <td>0</td>\n",
       "      <td>0</td>\n",
       "      <td>0</td>\n",
       "      <td>F_MAR</td>\n",
       "      <td>F_GRD</td>\n",
       "      <td>F_SPC</td>\n",
       "      <td>MAR_GRD</td>\n",
       "      <td>MAR_SPC</td>\n",
       "      <td>GRD_SPC</td>\n",
       "      <td>0</td>\n",
       "    </tr>\n",
       "    <tr>\n",
       "      <th>4</th>\n",
       "      <td>119523</td>\n",
       "      <td>M</td>\n",
       "      <td>33</td>\n",
       "      <td>MAR</td>\n",
       "      <td>SPC</td>\n",
       "      <td>38147.0</td>\n",
       "      <td>12</td>\n",
       "      <td>1.60</td>\n",
       "      <td>0.706974</td>\n",
       "      <td>UGR</td>\n",
       "      <td>...</td>\n",
       "      <td>0</td>\n",
       "      <td>0</td>\n",
       "      <td>0</td>\n",
       "      <td>M_MAR</td>\n",
       "      <td>M_UGR</td>\n",
       "      <td>M_SPC</td>\n",
       "      <td>MAR_UGR</td>\n",
       "      <td>MAR_SPC</td>\n",
       "      <td>UGR_SPC</td>\n",
       "      <td>0</td>\n",
       "    </tr>\n",
       "  </tbody>\n",
       "</table>\n",
       "<p>5 rows × 23 columns</p>\n",
       "</div>"
      ],
      "text/plain": [
       "   client_id gender  age marital_status job_position  credit_sum  \\\n",
       "0     119519      F   24            MAR          SPC     28429.0   \n",
       "1     119520      M   25            UNM          SPC     15997.0   \n",
       "2     119521      M   25            UNM          SPC     11043.0   \n",
       "3     119522      F   34            MAR          SPC     14617.0   \n",
       "4     119523      M   33            MAR          SPC     38147.0   \n",
       "\n",
       "   credit_month  tariff_id  score_shk education    ...     credit_count_NaN  \\\n",
       "0            18       1.10   0.593836       GRD    ...                    0   \n",
       "1            10       1.60   0.615015       SCH    ...                    0   \n",
       "2            10       1.16   0.666758       SCH    ...                    0   \n",
       "3            10       1.40   0.447745       GRD    ...                    0   \n",
       "4            12       1.60   0.706974       UGR    ...                    0   \n",
       "\n",
       "   overdue_credit_count_NaN  monthly_income_NaN  gender_marital_status  \\\n",
       "0                         0                   0                  F_MAR   \n",
       "1                         0                   0                  M_UNM   \n",
       "2                         0                   0                  M_UNM   \n",
       "3                         0                   0                  F_MAR   \n",
       "4                         0                   0                  M_MAR   \n",
       "\n",
       "   gender_education  gender_job_position marital_status_education  \\\n",
       "0             F_GRD                F_SPC                  MAR_GRD   \n",
       "1             M_SCH                M_SPC                  UNM_SCH   \n",
       "2             M_SCH                M_SPC                  UNM_SCH   \n",
       "3             F_GRD                F_SPC                  MAR_GRD   \n",
       "4             M_UGR                M_SPC                  MAR_UGR   \n",
       "\n",
       "  marital_status_job_position education_job_position age_young  \n",
       "0                     MAR_SPC                GRD_SPC         0  \n",
       "1                     UNM_SPC                SCH_SPC         0  \n",
       "2                     UNM_SPC                SCH_SPC         0  \n",
       "3                     MAR_SPC                GRD_SPC         0  \n",
       "4                     MAR_SPC                UGR_SPC         0  \n",
       "\n",
       "[5 rows x 23 columns]"
      ]
     },
     "execution_count": 62,
     "metadata": {},
     "output_type": "execute_result"
    }
   ],
   "source": [
    "all_train = all_copy[:119518]\n",
    "all_test = all_copy[119518:]\n",
    "all_test.head()"
   ]
  },
  {
   "cell_type": "markdown",
   "metadata": {},
   "source": [
    "Импортируем CatBoost"
   ]
  },
  {
   "cell_type": "code",
   "execution_count": 57,
   "metadata": {
    "collapsed": false,
    "scrolled": true
   },
   "outputs": [],
   "source": [
    "from catboost import CatBoostClassifier"
   ]
  },
  {
   "cell_type": "markdown",
   "metadata": {},
   "source": [
    "создаём переменную ctb2 как экземпляр модели классификации CatBoost и обучаем обучаем модель"
   ]
  },
  {
   "cell_type": "code",
   "execution_count": 63,
   "metadata": {
    "collapsed": false
   },
   "outputs": [
    {
     "name": "stdout",
     "output_type": "stream",
     "text": [
      "0:\tlearn: 0.6533461\ttotal: 546ms\tremaining: 9m 5s\n",
      "1:\tlearn: 0.6194099\ttotal: 1.03s\tremaining: 8m 35s\n",
      "2:\tlearn: 0.5901097\ttotal: 1.39s\tremaining: 7m 40s\n",
      "3:\tlearn: 0.5653966\ttotal: 1.8s\tremaining: 7m 28s\n",
      "4:\tlearn: 0.5444452\ttotal: 2.23s\tremaining: 7m 24s\n",
      "5:\tlearn: 0.5272918\ttotal: 2.69s\tremaining: 7m 25s\n",
      "6:\tlearn: 0.5118094\ttotal: 3.15s\tremaining: 7m 27s\n",
      "7:\tlearn: 0.4985490\ttotal: 3.55s\tremaining: 7m 20s\n",
      "8:\tlearn: 0.4879575\ttotal: 3.97s\tremaining: 7m 17s\n",
      "9:\tlearn: 0.4791016\ttotal: 4.37s\tremaining: 7m 12s\n",
      "10:\tlearn: 0.4716141\ttotal: 4.74s\tremaining: 7m 6s\n",
      "11:\tlearn: 0.4651039\ttotal: 5.14s\tremaining: 7m 3s\n",
      "12:\tlearn: 0.4595010\ttotal: 5.53s\tremaining: 7m\n",
      "13:\tlearn: 0.4539306\ttotal: 5.9s\tremaining: 6m 55s\n",
      "14:\tlearn: 0.4486945\ttotal: 6.3s\tremaining: 6m 53s\n",
      "15:\tlearn: 0.4443833\ttotal: 6.7s\tremaining: 6m 52s\n",
      "16:\tlearn: 0.4410770\ttotal: 7.07s\tremaining: 6m 48s\n",
      "17:\tlearn: 0.4378818\ttotal: 7.44s\tremaining: 6m 46s\n",
      "18:\tlearn: 0.4349265\ttotal: 7.8s\tremaining: 6m 42s\n",
      "19:\tlearn: 0.4321208\ttotal: 8.17s\tremaining: 6m 40s\n",
      "20:\tlearn: 0.4300997\ttotal: 8.56s\tremaining: 6m 38s\n",
      "21:\tlearn: 0.4282269\ttotal: 8.95s\tremaining: 6m 37s\n",
      "22:\tlearn: 0.4266434\ttotal: 9.31s\tremaining: 6m 35s\n",
      "23:\tlearn: 0.4251196\ttotal: 9.69s\tremaining: 6m 34s\n",
      "24:\tlearn: 0.4233224\ttotal: 10.1s\tremaining: 6m 33s\n",
      "25:\tlearn: 0.4217617\ttotal: 10.5s\tremaining: 6m 32s\n",
      "26:\tlearn: 0.4207194\ttotal: 10.9s\tremaining: 6m 31s\n",
      "27:\tlearn: 0.4197856\ttotal: 11.3s\tremaining: 6m 31s\n",
      "28:\tlearn: 0.4186921\ttotal: 11.7s\tremaining: 6m 30s\n",
      "29:\tlearn: 0.4179856\ttotal: 12.1s\tremaining: 6m 30s\n",
      "30:\tlearn: 0.4169997\ttotal: 12.5s\tremaining: 6m 29s\n",
      "31:\tlearn: 0.4163733\ttotal: 12.8s\tremaining: 6m 28s\n",
      "32:\tlearn: 0.4155989\ttotal: 13.2s\tremaining: 6m 28s\n",
      "33:\tlearn: 0.4147984\ttotal: 13.6s\tremaining: 6m 27s\n",
      "34:\tlearn: 0.4141573\ttotal: 14.1s\tremaining: 6m 27s\n",
      "35:\tlearn: 0.4135832\ttotal: 14.4s\tremaining: 6m 26s\n",
      "36:\tlearn: 0.4129474\ttotal: 14.8s\tremaining: 6m 25s\n",
      "37:\tlearn: 0.4124067\ttotal: 15.2s\tremaining: 6m 24s\n",
      "38:\tlearn: 0.4118662\ttotal: 15.6s\tremaining: 6m 24s\n",
      "39:\tlearn: 0.4113022\ttotal: 16s\tremaining: 6m 23s\n",
      "40:\tlearn: 0.4110050\ttotal: 16.4s\tremaining: 6m 22s\n",
      "41:\tlearn: 0.4105164\ttotal: 16.8s\tremaining: 6m 22s\n",
      "42:\tlearn: 0.4102498\ttotal: 17.2s\tremaining: 6m 22s\n",
      "43:\tlearn: 0.4099127\ttotal: 17.6s\tremaining: 6m 21s\n",
      "44:\tlearn: 0.4096455\ttotal: 18s\tremaining: 6m 21s\n",
      "45:\tlearn: 0.4094173\ttotal: 18.4s\tremaining: 6m 20s\n",
      "46:\tlearn: 0.4090579\ttotal: 18.8s\tremaining: 6m 20s\n",
      "47:\tlearn: 0.4087796\ttotal: 19.2s\tremaining: 6m 20s\n",
      "48:\tlearn: 0.4085594\ttotal: 19.6s\tremaining: 6m 19s\n",
      "49:\tlearn: 0.4082492\ttotal: 20s\tremaining: 6m 19s\n",
      "50:\tlearn: 0.4079403\ttotal: 20.4s\tremaining: 6m 19s\n",
      "51:\tlearn: 0.4077001\ttotal: 20.8s\tremaining: 6m 19s\n",
      "52:\tlearn: 0.4073738\ttotal: 21.2s\tremaining: 6m 19s\n",
      "53:\tlearn: 0.4072009\ttotal: 21.6s\tremaining: 6m 18s\n",
      "54:\tlearn: 0.4070042\ttotal: 22s\tremaining: 6m 18s\n",
      "55:\tlearn: 0.4068247\ttotal: 22.4s\tremaining: 6m 18s\n",
      "56:\tlearn: 0.4066525\ttotal: 22.9s\tremaining: 6m 18s\n",
      "57:\tlearn: 0.4065158\ttotal: 23.3s\tremaining: 6m 18s\n",
      "58:\tlearn: 0.4063643\ttotal: 23.7s\tremaining: 6m 17s\n",
      "59:\tlearn: 0.4061901\ttotal: 24.1s\tremaining: 6m 17s\n",
      "60:\tlearn: 0.4060373\ttotal: 24.5s\tremaining: 6m 17s\n",
      "61:\tlearn: 0.4058658\ttotal: 25s\tremaining: 6m 17s\n",
      "62:\tlearn: 0.4057336\ttotal: 25.4s\tremaining: 6m 17s\n",
      "63:\tlearn: 0.4054205\ttotal: 25.8s\tremaining: 6m 16s\n",
      "64:\tlearn: 0.4053021\ttotal: 26.2s\tremaining: 6m 16s\n",
      "65:\tlearn: 0.4051601\ttotal: 26.6s\tremaining: 6m 15s\n",
      "66:\tlearn: 0.4049987\ttotal: 27s\tremaining: 6m 15s\n",
      "67:\tlearn: 0.4048235\ttotal: 27.4s\tremaining: 6m 15s\n",
      "68:\tlearn: 0.4046104\ttotal: 27.8s\tremaining: 6m 15s\n",
      "69:\tlearn: 0.4044325\ttotal: 28.2s\tremaining: 6m 14s\n",
      "70:\tlearn: 0.4042882\ttotal: 28.6s\tremaining: 6m 14s\n",
      "71:\tlearn: 0.4041242\ttotal: 29s\tremaining: 6m 13s\n",
      "72:\tlearn: 0.4039808\ttotal: 29.4s\tremaining: 6m 13s\n",
      "73:\tlearn: 0.4038623\ttotal: 29.8s\tremaining: 6m 13s\n",
      "74:\tlearn: 0.4037454\ttotal: 30.2s\tremaining: 6m 12s\n",
      "75:\tlearn: 0.4036474\ttotal: 30.6s\tremaining: 6m 12s\n",
      "76:\tlearn: 0.4035308\ttotal: 31.1s\tremaining: 6m 12s\n",
      "77:\tlearn: 0.4034197\ttotal: 31.5s\tremaining: 6m 11s\n",
      "78:\tlearn: 0.4032970\ttotal: 31.9s\tremaining: 6m 11s\n",
      "79:\tlearn: 0.4031211\ttotal: 32.3s\tremaining: 6m 11s\n",
      "80:\tlearn: 0.4030111\ttotal: 32.7s\tremaining: 6m 10s\n",
      "81:\tlearn: 0.4029242\ttotal: 33.1s\tremaining: 6m 10s\n",
      "82:\tlearn: 0.4026837\ttotal: 33.5s\tremaining: 6m 10s\n",
      "83:\tlearn: 0.4025630\ttotal: 33.9s\tremaining: 6m 9s\n",
      "84:\tlearn: 0.4024412\ttotal: 34.3s\tremaining: 6m 9s\n",
      "85:\tlearn: 0.4023485\ttotal: 34.7s\tremaining: 6m 9s\n",
      "86:\tlearn: 0.4022529\ttotal: 35.1s\tremaining: 6m 8s\n",
      "87:\tlearn: 0.4020877\ttotal: 35.5s\tremaining: 6m 8s\n",
      "88:\tlearn: 0.4019990\ttotal: 35.9s\tremaining: 6m 7s\n",
      "89:\tlearn: 0.4019026\ttotal: 36.3s\tremaining: 6m 7s\n",
      "90:\tlearn: 0.4017925\ttotal: 36.8s\tremaining: 6m 7s\n",
      "91:\tlearn: 0.4017204\ttotal: 37.2s\tremaining: 6m 6s\n",
      "92:\tlearn: 0.4016373\ttotal: 37.6s\tremaining: 6m 6s\n",
      "93:\tlearn: 0.4015506\ttotal: 38s\tremaining: 6m 6s\n",
      "94:\tlearn: 0.4014258\ttotal: 38.4s\tremaining: 6m 5s\n",
      "95:\tlearn: 0.4013489\ttotal: 38.8s\tremaining: 6m 5s\n",
      "96:\tlearn: 0.4012756\ttotal: 39.2s\tremaining: 6m 4s\n",
      "97:\tlearn: 0.4012088\ttotal: 39.6s\tremaining: 6m 4s\n",
      "98:\tlearn: 0.4010691\ttotal: 40s\tremaining: 6m 4s\n",
      "99:\tlearn: 0.4009949\ttotal: 40.4s\tremaining: 6m 3s\n",
      "100:\tlearn: 0.4008793\ttotal: 40.8s\tremaining: 6m 3s\n",
      "101:\tlearn: 0.4007855\ttotal: 41.3s\tremaining: 6m 3s\n",
      "102:\tlearn: 0.4006903\ttotal: 41.7s\tremaining: 6m 2s\n",
      "103:\tlearn: 0.4006475\ttotal: 42.1s\tremaining: 6m 2s\n",
      "104:\tlearn: 0.4005462\ttotal: 42.5s\tremaining: 6m 2s\n",
      "105:\tlearn: 0.4004770\ttotal: 42.9s\tremaining: 6m 1s\n",
      "106:\tlearn: 0.4003949\ttotal: 43.3s\tremaining: 6m 1s\n",
      "107:\tlearn: 0.4003348\ttotal: 43.7s\tremaining: 6m\n",
      "108:\tlearn: 0.4002811\ttotal: 44.1s\tremaining: 6m\n",
      "109:\tlearn: 0.4002126\ttotal: 44.5s\tremaining: 5m 59s\n",
      "110:\tlearn: 0.4000841\ttotal: 44.9s\tremaining: 5m 59s\n",
      "111:\tlearn: 0.4000171\ttotal: 45.3s\tremaining: 5m 59s\n",
      "112:\tlearn: 0.3999703\ttotal: 45.7s\tremaining: 5m 58s\n",
      "113:\tlearn: 0.3998878\ttotal: 46.1s\tremaining: 5m 58s\n",
      "114:\tlearn: 0.3998354\ttotal: 46.5s\tremaining: 5m 58s\n",
      "115:\tlearn: 0.3997488\ttotal: 46.9s\tremaining: 5m 57s\n",
      "116:\tlearn: 0.3996930\ttotal: 47.4s\tremaining: 5m 57s\n",
      "117:\tlearn: 0.3996264\ttotal: 47.8s\tremaining: 5m 57s\n",
      "118:\tlearn: 0.3995836\ttotal: 48.2s\tremaining: 5m 56s\n",
      "119:\tlearn: 0.3995414\ttotal: 48.6s\tremaining: 5m 56s\n",
      "120:\tlearn: 0.3994584\ttotal: 49s\tremaining: 5m 55s\n",
      "121:\tlearn: 0.3993764\ttotal: 49.4s\tremaining: 5m 55s\n",
      "122:\tlearn: 0.3992693\ttotal: 49.8s\tremaining: 5m 55s\n",
      "123:\tlearn: 0.3992210\ttotal: 50.2s\tremaining: 5m 54s\n",
      "124:\tlearn: 0.3991539\ttotal: 50.6s\tremaining: 5m 54s\n",
      "125:\tlearn: 0.3991283\ttotal: 50.9s\tremaining: 5m 53s\n",
      "126:\tlearn: 0.3990630\ttotal: 51.3s\tremaining: 5m 52s\n",
      "127:\tlearn: 0.3990097\ttotal: 51.7s\tremaining: 5m 52s\n",
      "128:\tlearn: 0.3989062\ttotal: 52.2s\tremaining: 5m 52s\n",
      "129:\tlearn: 0.3988481\ttotal: 52.7s\tremaining: 5m 52s\n",
      "130:\tlearn: 0.3987860\ttotal: 53s\tremaining: 5m 51s\n",
      "131:\tlearn: 0.3987591\ttotal: 53.3s\tremaining: 5m 50s\n",
      "132:\tlearn: 0.3987025\ttotal: 53.7s\tremaining: 5m 50s\n",
      "133:\tlearn: 0.3986712\ttotal: 54.1s\tremaining: 5m 49s\n",
      "134:\tlearn: 0.3986545\ttotal: 54.5s\tremaining: 5m 48s\n",
      "135:\tlearn: 0.3985931\ttotal: 54.8s\tremaining: 5m 48s\n",
      "136:\tlearn: 0.3985169\ttotal: 55.2s\tremaining: 5m 47s\n",
      "137:\tlearn: 0.3984664\ttotal: 55.6s\tremaining: 5m 47s\n",
      "138:\tlearn: 0.3984229\ttotal: 56s\tremaining: 5m 46s\n",
      "139:\tlearn: 0.3983823\ttotal: 56.4s\tremaining: 5m 46s\n",
      "140:\tlearn: 0.3983240\ttotal: 56.7s\tremaining: 5m 45s\n",
      "141:\tlearn: 0.3982097\ttotal: 57.1s\tremaining: 5m 45s\n",
      "142:\tlearn: 0.3981846\ttotal: 57.4s\tremaining: 5m 44s\n",
      "143:\tlearn: 0.3981074\ttotal: 57.8s\tremaining: 5m 43s\n",
      "144:\tlearn: 0.3980810\ttotal: 58.1s\tremaining: 5m 42s\n",
      "145:\tlearn: 0.3980203\ttotal: 58.5s\tremaining: 5m 42s\n",
      "146:\tlearn: 0.3979781\ttotal: 58.9s\tremaining: 5m 41s\n",
      "147:\tlearn: 0.3978717\ttotal: 59.3s\tremaining: 5m 41s\n",
      "148:\tlearn: 0.3978240\ttotal: 59.6s\tremaining: 5m 40s\n",
      "149:\tlearn: 0.3977771\ttotal: 1m\tremaining: 5m 40s\n",
      "150:\tlearn: 0.3977368\ttotal: 1m\tremaining: 5m 39s\n",
      "151:\tlearn: 0.3976899\ttotal: 1m\tremaining: 5m 38s\n",
      "152:\tlearn: 0.3976552\ttotal: 1m 1s\tremaining: 5m 38s\n",
      "153:\tlearn: 0.3976155\ttotal: 1m 1s\tremaining: 5m 38s\n",
      "154:\tlearn: 0.3975798\ttotal: 1m 1s\tremaining: 5m 37s\n",
      "155:\tlearn: 0.3975332\ttotal: 1m 2s\tremaining: 5m 36s\n",
      "156:\tlearn: 0.3974863\ttotal: 1m 2s\tremaining: 5m 36s\n",
      "157:\tlearn: 0.3974428\ttotal: 1m 2s\tremaining: 5m 35s\n",
      "158:\tlearn: 0.3974075\ttotal: 1m 3s\tremaining: 5m 35s\n",
      "159:\tlearn: 0.3973588\ttotal: 1m 3s\tremaining: 5m 34s\n",
      "160:\tlearn: 0.3972987\ttotal: 1m 4s\tremaining: 5m 34s\n",
      "161:\tlearn: 0.3972625\ttotal: 1m 4s\tremaining: 5m 33s\n",
      "162:\tlearn: 0.3972023\ttotal: 1m 4s\tremaining: 5m 33s\n",
      "163:\tlearn: 0.3971829\ttotal: 1m 5s\tremaining: 5m 32s\n",
      "164:\tlearn: 0.3971498\ttotal: 1m 5s\tremaining: 5m 32s\n",
      "165:\tlearn: 0.3971246\ttotal: 1m 6s\tremaining: 5m 31s\n",
      "166:\tlearn: 0.3971049\ttotal: 1m 6s\tremaining: 5m 31s\n",
      "167:\tlearn: 0.3970331\ttotal: 1m 6s\tremaining: 5m 30s\n",
      "168:\tlearn: 0.3969790\ttotal: 1m 7s\tremaining: 5m 30s\n",
      "169:\tlearn: 0.3969315\ttotal: 1m 7s\tremaining: 5m 29s\n",
      "170:\tlearn: 0.3968940\ttotal: 1m 7s\tremaining: 5m 29s\n",
      "171:\tlearn: 0.3968719\ttotal: 1m 8s\tremaining: 5m 28s\n",
      "172:\tlearn: 0.3968451\ttotal: 1m 8s\tremaining: 5m 28s\n",
      "173:\tlearn: 0.3967687\ttotal: 1m 9s\tremaining: 5m 27s\n",
      "174:\tlearn: 0.3967285\ttotal: 1m 9s\tremaining: 5m 27s\n",
      "175:\tlearn: 0.3967049\ttotal: 1m 9s\tremaining: 5m 26s\n",
      "176:\tlearn: 0.3966699\ttotal: 1m 10s\tremaining: 5m 26s\n",
      "177:\tlearn: 0.3966384\ttotal: 1m 10s\tremaining: 5m 25s\n",
      "178:\tlearn: 0.3965959\ttotal: 1m 10s\tremaining: 5m 24s\n",
      "179:\tlearn: 0.3965602\ttotal: 1m 11s\tremaining: 5m 24s\n",
      "180:\tlearn: 0.3965280\ttotal: 1m 11s\tremaining: 5m 23s\n",
      "181:\tlearn: 0.3965041\ttotal: 1m 11s\tremaining: 5m 22s\n",
      "182:\tlearn: 0.3964622\ttotal: 1m 12s\tremaining: 5m 22s\n",
      "183:\tlearn: 0.3964438\ttotal: 1m 12s\tremaining: 5m 21s\n",
      "184:\tlearn: 0.3964059\ttotal: 1m 12s\tremaining: 5m 21s\n",
      "185:\tlearn: 0.3963432\ttotal: 1m 13s\tremaining: 5m 20s\n",
      "186:\tlearn: 0.3962747\ttotal: 1m 13s\tremaining: 5m 20s\n",
      "187:\tlearn: 0.3962422\ttotal: 1m 14s\tremaining: 5m 19s\n",
      "188:\tlearn: 0.3961942\ttotal: 1m 14s\tremaining: 5m 19s\n",
      "189:\tlearn: 0.3960734\ttotal: 1m 14s\tremaining: 5m 19s\n",
      "190:\tlearn: 0.3960384\ttotal: 1m 15s\tremaining: 5m 18s\n",
      "191:\tlearn: 0.3960155\ttotal: 1m 15s\tremaining: 5m 18s\n",
      "192:\tlearn: 0.3959743\ttotal: 1m 15s\tremaining: 5m 17s\n",
      "193:\tlearn: 0.3959474\ttotal: 1m 16s\tremaining: 5m 17s\n",
      "194:\tlearn: 0.3959322\ttotal: 1m 16s\tremaining: 5m 16s\n",
      "195:\tlearn: 0.3959188\ttotal: 1m 17s\tremaining: 5m 16s\n",
      "196:\tlearn: 0.3958722\ttotal: 1m 17s\tremaining: 5m 15s\n",
      "197:\tlearn: 0.3958469\ttotal: 1m 17s\tremaining: 5m 15s\n",
      "198:\tlearn: 0.3958106\ttotal: 1m 18s\tremaining: 5m 15s\n",
      "199:\tlearn: 0.3957810\ttotal: 1m 18s\tremaining: 5m 15s\n",
      "200:\tlearn: 0.3957562\ttotal: 1m 19s\tremaining: 5m 14s\n",
      "201:\tlearn: 0.3957184\ttotal: 1m 19s\tremaining: 5m 14s\n",
      "202:\tlearn: 0.3956959\ttotal: 1m 20s\tremaining: 5m 14s\n",
      "203:\tlearn: 0.3956724\ttotal: 1m 20s\tremaining: 5m 13s\n",
      "204:\tlearn: 0.3956367\ttotal: 1m 20s\tremaining: 5m 13s\n",
      "205:\tlearn: 0.3956077\ttotal: 1m 21s\tremaining: 5m 13s\n",
      "206:\tlearn: 0.3955696\ttotal: 1m 21s\tremaining: 5m 13s\n",
      "207:\tlearn: 0.3955410\ttotal: 1m 22s\tremaining: 5m 13s\n",
      "208:\tlearn: 0.3954682\ttotal: 1m 22s\tremaining: 5m 13s\n",
      "209:\tlearn: 0.3954598\ttotal: 1m 23s\tremaining: 5m 12s\n",
      "210:\tlearn: 0.3954289\ttotal: 1m 23s\tremaining: 5m 12s\n",
      "211:\tlearn: 0.3953880\ttotal: 1m 23s\tremaining: 5m 11s\n",
      "212:\tlearn: 0.3953660\ttotal: 1m 24s\tremaining: 5m 11s\n",
      "213:\tlearn: 0.3953509\ttotal: 1m 24s\tremaining: 5m 10s\n",
      "214:\tlearn: 0.3953246\ttotal: 1m 25s\tremaining: 5m 10s\n",
      "215:\tlearn: 0.3952623\ttotal: 1m 25s\tremaining: 5m 10s\n",
      "216:\tlearn: 0.3952501\ttotal: 1m 25s\tremaining: 5m 9s\n",
      "217:\tlearn: 0.3952158\ttotal: 1m 26s\tremaining: 5m 8s\n",
      "218:\tlearn: 0.3951333\ttotal: 1m 26s\tremaining: 5m 8s\n",
      "219:\tlearn: 0.3950929\ttotal: 1m 26s\tremaining: 5m 8s\n",
      "220:\tlearn: 0.3950435\ttotal: 1m 27s\tremaining: 5m 7s\n",
      "221:\tlearn: 0.3950198\ttotal: 1m 27s\tremaining: 5m 7s\n",
      "222:\tlearn: 0.3950060\ttotal: 1m 28s\tremaining: 5m 7s\n",
      "223:\tlearn: 0.3949558\ttotal: 1m 28s\tremaining: 5m 6s\n",
      "224:\tlearn: 0.3949378\ttotal: 1m 28s\tremaining: 5m 6s\n",
      "225:\tlearn: 0.3949037\ttotal: 1m 29s\tremaining: 5m 5s\n",
      "226:\tlearn: 0.3948829\ttotal: 1m 29s\tremaining: 5m 5s\n",
      "227:\tlearn: 0.3948500\ttotal: 1m 30s\tremaining: 5m 4s\n",
      "228:\tlearn: 0.3948289\ttotal: 1m 30s\tremaining: 5m 4s\n",
      "229:\tlearn: 0.3948165\ttotal: 1m 30s\tremaining: 5m 4s\n",
      "230:\tlearn: 0.3947869\ttotal: 1m 31s\tremaining: 5m 3s\n",
      "231:\tlearn: 0.3947389\ttotal: 1m 31s\tremaining: 5m 3s\n",
      "232:\tlearn: 0.3947084\ttotal: 1m 31s\tremaining: 5m 2s\n",
      "233:\tlearn: 0.3946702\ttotal: 1m 32s\tremaining: 5m 2s\n",
      "234:\tlearn: 0.3946202\ttotal: 1m 32s\tremaining: 5m 1s\n",
      "235:\tlearn: 0.3945697\ttotal: 1m 33s\tremaining: 5m 1s\n",
      "236:\tlearn: 0.3945634\ttotal: 1m 33s\tremaining: 5m\n",
      "237:\tlearn: 0.3945368\ttotal: 1m 33s\tremaining: 5m\n",
      "238:\tlearn: 0.3945131\ttotal: 1m 34s\tremaining: 5m\n",
      "239:\tlearn: 0.3944329\ttotal: 1m 34s\tremaining: 4m 59s\n",
      "240:\tlearn: 0.3944022\ttotal: 1m 35s\tremaining: 4m 59s\n",
      "241:\tlearn: 0.3943645\ttotal: 1m 35s\tremaining: 4m 59s\n",
      "242:\tlearn: 0.3943145\ttotal: 1m 35s\tremaining: 4m 58s\n",
      "243:\tlearn: 0.3942759\ttotal: 1m 36s\tremaining: 4m 58s\n",
      "244:\tlearn: 0.3942408\ttotal: 1m 36s\tremaining: 4m 57s\n",
      "245:\tlearn: 0.3942086\ttotal: 1m 37s\tremaining: 4m 57s\n",
      "246:\tlearn: 0.3941848\ttotal: 1m 37s\tremaining: 4m 57s\n",
      "247:\tlearn: 0.3941603\ttotal: 1m 37s\tremaining: 4m 56s\n",
      "248:\tlearn: 0.3941159\ttotal: 1m 38s\tremaining: 4m 56s\n",
      "249:\tlearn: 0.3940788\ttotal: 1m 38s\tremaining: 4m 55s\n",
      "250:\tlearn: 0.3940487\ttotal: 1m 38s\tremaining: 4m 55s\n",
      "251:\tlearn: 0.3940321\ttotal: 1m 39s\tremaining: 4m 54s\n",
      "252:\tlearn: 0.3940110\ttotal: 1m 39s\tremaining: 4m 54s\n",
      "253:\tlearn: 0.3939801\ttotal: 1m 40s\tremaining: 4m 53s\n",
      "254:\tlearn: 0.3939661\ttotal: 1m 40s\tremaining: 4m 53s\n",
      "255:\tlearn: 0.3939319\ttotal: 1m 40s\tremaining: 4m 52s\n",
      "256:\tlearn: 0.3939163\ttotal: 1m 41s\tremaining: 4m 52s\n",
      "257:\tlearn: 0.3938974\ttotal: 1m 41s\tremaining: 4m 52s\n",
      "258:\tlearn: 0.3938735\ttotal: 1m 41s\tremaining: 4m 51s\n",
      "259:\tlearn: 0.3938454\ttotal: 1m 42s\tremaining: 4m 51s\n",
      "260:\tlearn: 0.3938254\ttotal: 1m 42s\tremaining: 4m 50s\n",
      "261:\tlearn: 0.3938038\ttotal: 1m 43s\tremaining: 4m 50s\n",
      "262:\tlearn: 0.3937733\ttotal: 1m 43s\tremaining: 4m 49s\n",
      "263:\tlearn: 0.3937482\ttotal: 1m 43s\tremaining: 4m 49s\n",
      "264:\tlearn: 0.3937270\ttotal: 1m 44s\tremaining: 4m 48s\n",
      "265:\tlearn: 0.3937091\ttotal: 1m 44s\tremaining: 4m 48s\n",
      "266:\tlearn: 0.3936840\ttotal: 1m 44s\tremaining: 4m 48s\n",
      "267:\tlearn: 0.3936361\ttotal: 1m 45s\tremaining: 4m 47s\n",
      "268:\tlearn: 0.3936136\ttotal: 1m 45s\tremaining: 4m 47s\n",
      "269:\tlearn: 0.3935653\ttotal: 1m 46s\tremaining: 4m 47s\n",
      "270:\tlearn: 0.3935320\ttotal: 1m 46s\tremaining: 4m 46s\n",
      "271:\tlearn: 0.3934792\ttotal: 1m 47s\tremaining: 4m 46s\n",
      "272:\tlearn: 0.3934452\ttotal: 1m 47s\tremaining: 4m 45s\n",
      "273:\tlearn: 0.3934130\ttotal: 1m 47s\tremaining: 4m 45s\n",
      "274:\tlearn: 0.3933790\ttotal: 1m 48s\tremaining: 4m 45s\n",
      "275:\tlearn: 0.3933524\ttotal: 1m 48s\tremaining: 4m 44s\n",
      "276:\tlearn: 0.3933144\ttotal: 1m 48s\tremaining: 4m 44s\n",
      "277:\tlearn: 0.3932924\ttotal: 1m 49s\tremaining: 4m 43s\n",
      "278:\tlearn: 0.3932725\ttotal: 1m 49s\tremaining: 4m 43s\n",
      "279:\tlearn: 0.3932601\ttotal: 1m 50s\tremaining: 4m 43s\n",
      "280:\tlearn: 0.3932493\ttotal: 1m 50s\tremaining: 4m 42s\n",
      "281:\tlearn: 0.3932160\ttotal: 1m 50s\tremaining: 4m 42s\n",
      "282:\tlearn: 0.3931741\ttotal: 1m 51s\tremaining: 4m 41s\n",
      "283:\tlearn: 0.3931447\ttotal: 1m 51s\tremaining: 4m 41s\n",
      "284:\tlearn: 0.3931229\ttotal: 1m 52s\tremaining: 4m 41s\n",
      "285:\tlearn: 0.3931068\ttotal: 1m 52s\tremaining: 4m 40s\n",
      "286:\tlearn: 0.3930722\ttotal: 1m 52s\tremaining: 4m 40s\n",
      "287:\tlearn: 0.3930251\ttotal: 1m 53s\tremaining: 4m 40s\n",
      "288:\tlearn: 0.3930015\ttotal: 1m 53s\tremaining: 4m 39s\n",
      "289:\tlearn: 0.3929789\ttotal: 1m 54s\tremaining: 4m 39s\n",
      "290:\tlearn: 0.3929405\ttotal: 1m 54s\tremaining: 4m 38s\n",
      "291:\tlearn: 0.3929150\ttotal: 1m 54s\tremaining: 4m 38s\n",
      "292:\tlearn: 0.3928826\ttotal: 1m 55s\tremaining: 4m 38s\n",
      "293:\tlearn: 0.3928641\ttotal: 1m 55s\tremaining: 4m 37s\n",
      "294:\tlearn: 0.3928264\ttotal: 1m 56s\tremaining: 4m 37s\n",
      "295:\tlearn: 0.3928071\ttotal: 1m 56s\tremaining: 4m 37s\n",
      "296:\tlearn: 0.3927937\ttotal: 1m 56s\tremaining: 4m 36s\n",
      "297:\tlearn: 0.3927722\ttotal: 1m 57s\tremaining: 4m 36s\n",
      "298:\tlearn: 0.3927550\ttotal: 1m 57s\tremaining: 4m 36s\n",
      "299:\tlearn: 0.3927162\ttotal: 1m 58s\tremaining: 4m 35s\n",
      "300:\tlearn: 0.3927104\ttotal: 1m 58s\tremaining: 4m 35s\n",
      "301:\tlearn: 0.3926735\ttotal: 1m 58s\tremaining: 4m 34s\n",
      "302:\tlearn: 0.3926596\ttotal: 1m 59s\tremaining: 4m 34s\n",
      "303:\tlearn: 0.3926487\ttotal: 1m 59s\tremaining: 4m 33s\n",
      "304:\tlearn: 0.3926282\ttotal: 1m 59s\tremaining: 4m 33s\n",
      "305:\tlearn: 0.3926096\ttotal: 2m\tremaining: 4m 32s\n",
      "306:\tlearn: 0.3925874\ttotal: 2m\tremaining: 4m 32s\n",
      "307:\tlearn: 0.3925472\ttotal: 2m 1s\tremaining: 4m 32s\n",
      "308:\tlearn: 0.3925408\ttotal: 2m 1s\tremaining: 4m 31s\n",
      "309:\tlearn: 0.3925273\ttotal: 2m 1s\tremaining: 4m 31s\n",
      "310:\tlearn: 0.3924978\ttotal: 2m 2s\tremaining: 4m 31s\n",
      "311:\tlearn: 0.3924788\ttotal: 2m 2s\tremaining: 4m 30s\n",
      "312:\tlearn: 0.3924454\ttotal: 2m 3s\tremaining: 4m 30s\n",
      "313:\tlearn: 0.3924196\ttotal: 2m 3s\tremaining: 4m 29s\n",
      "314:\tlearn: 0.3924022\ttotal: 2m 3s\tremaining: 4m 29s\n",
      "315:\tlearn: 0.3923748\ttotal: 2m 4s\tremaining: 4m 28s\n",
      "316:\tlearn: 0.3923684\ttotal: 2m 4s\tremaining: 4m 28s\n",
      "317:\tlearn: 0.3923450\ttotal: 2m 5s\tremaining: 4m 28s\n",
      "318:\tlearn: 0.3923219\ttotal: 2m 5s\tremaining: 4m 27s\n",
      "319:\tlearn: 0.3922996\ttotal: 2m 5s\tremaining: 4m 27s\n",
      "320:\tlearn: 0.3922808\ttotal: 2m 6s\tremaining: 4m 26s\n",
      "321:\tlearn: 0.3922590\ttotal: 2m 6s\tremaining: 4m 26s\n",
      "322:\tlearn: 0.3922136\ttotal: 2m 6s\tremaining: 4m 26s\n",
      "323:\tlearn: 0.3921758\ttotal: 2m 7s\tremaining: 4m 25s\n",
      "324:\tlearn: 0.3921468\ttotal: 2m 7s\tremaining: 4m 25s\n",
      "325:\tlearn: 0.3921273\ttotal: 2m 8s\tremaining: 4m 24s\n",
      "326:\tlearn: 0.3921059\ttotal: 2m 8s\tremaining: 4m 24s\n",
      "327:\tlearn: 0.3920808\ttotal: 2m 8s\tremaining: 4m 24s\n",
      "328:\tlearn: 0.3920583\ttotal: 2m 9s\tremaining: 4m 23s\n",
      "329:\tlearn: 0.3920384\ttotal: 2m 9s\tremaining: 4m 23s\n",
      "330:\tlearn: 0.3920260\ttotal: 2m 10s\tremaining: 4m 22s\n",
      "331:\tlearn: 0.3920123\ttotal: 2m 10s\tremaining: 4m 22s\n",
      "332:\tlearn: 0.3919877\ttotal: 2m 10s\tremaining: 4m 21s\n",
      "333:\tlearn: 0.3919748\ttotal: 2m 11s\tremaining: 4m 21s\n",
      "334:\tlearn: 0.3919491\ttotal: 2m 11s\tremaining: 4m 21s\n",
      "335:\tlearn: 0.3919190\ttotal: 2m 11s\tremaining: 4m 20s\n",
      "336:\tlearn: 0.3918963\ttotal: 2m 12s\tremaining: 4m 20s\n",
      "337:\tlearn: 0.3918729\ttotal: 2m 12s\tremaining: 4m 19s\n",
      "338:\tlearn: 0.3918432\ttotal: 2m 13s\tremaining: 4m 19s\n",
      "339:\tlearn: 0.3918076\ttotal: 2m 13s\tremaining: 4m 19s\n",
      "340:\tlearn: 0.3917814\ttotal: 2m 13s\tremaining: 4m 18s\n",
      "341:\tlearn: 0.3917379\ttotal: 2m 14s\tremaining: 4m 18s\n",
      "342:\tlearn: 0.3917212\ttotal: 2m 14s\tremaining: 4m 17s\n",
      "343:\tlearn: 0.3916695\ttotal: 2m 15s\tremaining: 4m 17s\n",
      "344:\tlearn: 0.3916388\ttotal: 2m 15s\tremaining: 4m 17s\n",
      "345:\tlearn: 0.3916217\ttotal: 2m 15s\tremaining: 4m 16s\n",
      "346:\tlearn: 0.3916096\ttotal: 2m 16s\tremaining: 4m 16s\n",
      "347:\tlearn: 0.3915918\ttotal: 2m 16s\tremaining: 4m 16s\n",
      "348:\tlearn: 0.3915453\ttotal: 2m 17s\tremaining: 4m 15s\n",
      "349:\tlearn: 0.3915197\ttotal: 2m 17s\tremaining: 4m 15s\n",
      "350:\tlearn: 0.3914767\ttotal: 2m 17s\tremaining: 4m 15s\n",
      "351:\tlearn: 0.3914397\ttotal: 2m 18s\tremaining: 4m 14s\n",
      "352:\tlearn: 0.3914134\ttotal: 2m 18s\tremaining: 4m 14s\n",
      "353:\tlearn: 0.3913953\ttotal: 2m 19s\tremaining: 4m 13s\n",
      "354:\tlearn: 0.3913819\ttotal: 2m 19s\tremaining: 4m 13s\n",
      "355:\tlearn: 0.3913533\ttotal: 2m 19s\tremaining: 4m 13s\n",
      "356:\tlearn: 0.3913302\ttotal: 2m 20s\tremaining: 4m 12s\n",
      "357:\tlearn: 0.3912793\ttotal: 2m 20s\tremaining: 4m 12s\n",
      "358:\tlearn: 0.3912496\ttotal: 2m 21s\tremaining: 4m 11s\n",
      "359:\tlearn: 0.3912200\ttotal: 2m 21s\tremaining: 4m 11s\n",
      "360:\tlearn: 0.3911906\ttotal: 2m 21s\tremaining: 4m 10s\n",
      "361:\tlearn: 0.3911643\ttotal: 2m 22s\tremaining: 4m 10s\n",
      "362:\tlearn: 0.3911318\ttotal: 2m 22s\tremaining: 4m 10s\n",
      "363:\tlearn: 0.3910997\ttotal: 2m 22s\tremaining: 4m 9s\n",
      "364:\tlearn: 0.3910764\ttotal: 2m 23s\tremaining: 4m 9s\n",
      "365:\tlearn: 0.3910511\ttotal: 2m 23s\tremaining: 4m 8s\n",
      "366:\tlearn: 0.3910017\ttotal: 2m 24s\tremaining: 4m 8s\n",
      "367:\tlearn: 0.3909795\ttotal: 2m 24s\tremaining: 4m 8s\n",
      "368:\tlearn: 0.3909586\ttotal: 2m 24s\tremaining: 4m 7s\n",
      "369:\tlearn: 0.3909328\ttotal: 2m 25s\tremaining: 4m 7s\n",
      "370:\tlearn: 0.3909022\ttotal: 2m 25s\tremaining: 4m 6s\n",
      "371:\tlearn: 0.3908799\ttotal: 2m 25s\tremaining: 4m 6s\n",
      "372:\tlearn: 0.3908457\ttotal: 2m 26s\tremaining: 4m 5s\n",
      "373:\tlearn: 0.3908280\ttotal: 2m 26s\tremaining: 4m 5s\n",
      "374:\tlearn: 0.3907912\ttotal: 2m 27s\tremaining: 4m 5s\n",
      "375:\tlearn: 0.3907668\ttotal: 2m 27s\tremaining: 4m 4s\n",
      "376:\tlearn: 0.3907362\ttotal: 2m 27s\tremaining: 4m 4s\n",
      "377:\tlearn: 0.3907036\ttotal: 2m 28s\tremaining: 4m 4s\n",
      "378:\tlearn: 0.3906697\ttotal: 2m 28s\tremaining: 4m 3s\n",
      "379:\tlearn: 0.3906527\ttotal: 2m 29s\tremaining: 4m 3s\n",
      "380:\tlearn: 0.3906076\ttotal: 2m 29s\tremaining: 4m 2s\n",
      "381:\tlearn: 0.3905864\ttotal: 2m 29s\tremaining: 4m 2s\n",
      "382:\tlearn: 0.3905657\ttotal: 2m 30s\tremaining: 4m 2s\n",
      "383:\tlearn: 0.3905274\ttotal: 2m 30s\tremaining: 4m 1s\n",
      "384:\tlearn: 0.3905118\ttotal: 2m 31s\tremaining: 4m 1s\n",
      "385:\tlearn: 0.3904759\ttotal: 2m 31s\tremaining: 4m\n",
      "386:\tlearn: 0.3904450\ttotal: 2m 31s\tremaining: 4m\n",
      "387:\tlearn: 0.3904221\ttotal: 2m 32s\tremaining: 4m\n",
      "388:\tlearn: 0.3903697\ttotal: 2m 32s\tremaining: 3m 59s\n",
      "389:\tlearn: 0.3903311\ttotal: 2m 32s\tremaining: 3m 59s\n",
      "390:\tlearn: 0.3903040\ttotal: 2m 33s\tremaining: 3m 58s\n",
      "391:\tlearn: 0.3902777\ttotal: 2m 33s\tremaining: 3m 58s\n",
      "392:\tlearn: 0.3902505\ttotal: 2m 34s\tremaining: 3m 57s\n",
      "393:\tlearn: 0.3902368\ttotal: 2m 34s\tremaining: 3m 57s\n",
      "394:\tlearn: 0.3902032\ttotal: 2m 34s\tremaining: 3m 57s\n",
      "395:\tlearn: 0.3901897\ttotal: 2m 35s\tremaining: 3m 56s\n",
      "396:\tlearn: 0.3901627\ttotal: 2m 35s\tremaining: 3m 56s\n",
      "397:\tlearn: 0.3901415\ttotal: 2m 35s\tremaining: 3m 55s\n",
      "398:\tlearn: 0.3901182\ttotal: 2m 36s\tremaining: 3m 55s\n",
      "399:\tlearn: 0.3900925\ttotal: 2m 36s\tremaining: 3m 55s\n",
      "400:\tlearn: 0.3900640\ttotal: 2m 37s\tremaining: 3m 54s\n",
      "401:\tlearn: 0.3900368\ttotal: 2m 37s\tremaining: 3m 54s\n",
      "402:\tlearn: 0.3900147\ttotal: 2m 37s\tremaining: 3m 53s\n",
      "403:\tlearn: 0.3899837\ttotal: 2m 38s\tremaining: 3m 53s\n",
      "404:\tlearn: 0.3899535\ttotal: 2m 38s\tremaining: 3m 52s\n",
      "405:\tlearn: 0.3899205\ttotal: 2m 38s\tremaining: 3m 52s\n",
      "406:\tlearn: 0.3899006\ttotal: 2m 39s\tremaining: 3m 52s\n",
      "407:\tlearn: 0.3898856\ttotal: 2m 39s\tremaining: 3m 51s\n",
      "408:\tlearn: 0.3898651\ttotal: 2m 40s\tremaining: 3m 51s\n",
      "409:\tlearn: 0.3898552\ttotal: 2m 40s\tremaining: 3m 50s\n",
      "410:\tlearn: 0.3898202\ttotal: 2m 40s\tremaining: 3m 50s\n",
      "411:\tlearn: 0.3898055\ttotal: 2m 41s\tremaining: 3m 49s\n",
      "412:\tlearn: 0.3897983\ttotal: 2m 41s\tremaining: 3m 49s\n",
      "413:\tlearn: 0.3897651\ttotal: 2m 41s\tremaining: 3m 49s\n",
      "414:\tlearn: 0.3897435\ttotal: 2m 42s\tremaining: 3m 48s\n",
      "415:\tlearn: 0.3897181\ttotal: 2m 42s\tremaining: 3m 48s\n",
      "416:\tlearn: 0.3896983\ttotal: 2m 42s\tremaining: 3m 47s\n",
      "417:\tlearn: 0.3896823\ttotal: 2m 43s\tremaining: 3m 47s\n",
      "418:\tlearn: 0.3896305\ttotal: 2m 43s\tremaining: 3m 47s\n",
      "419:\tlearn: 0.3896124\ttotal: 2m 44s\tremaining: 3m 46s\n",
      "420:\tlearn: 0.3895947\ttotal: 2m 44s\tremaining: 3m 46s\n",
      "421:\tlearn: 0.3895779\ttotal: 2m 44s\tremaining: 3m 45s\n",
      "422:\tlearn: 0.3895477\ttotal: 2m 45s\tremaining: 3m 45s\n",
      "423:\tlearn: 0.3895374\ttotal: 2m 45s\tremaining: 3m 44s\n",
      "424:\tlearn: 0.3895258\ttotal: 2m 45s\tremaining: 3m 44s\n",
      "425:\tlearn: 0.3894871\ttotal: 2m 46s\tremaining: 3m 43s\n",
      "426:\tlearn: 0.3894744\ttotal: 2m 46s\tremaining: 3m 43s\n",
      "427:\tlearn: 0.3894312\ttotal: 2m 46s\tremaining: 3m 43s\n",
      "428:\tlearn: 0.3893983\ttotal: 2m 47s\tremaining: 3m 42s\n",
      "429:\tlearn: 0.3893732\ttotal: 2m 47s\tremaining: 3m 42s\n",
      "430:\tlearn: 0.3893494\ttotal: 2m 47s\tremaining: 3m 41s\n",
      "431:\tlearn: 0.3893193\ttotal: 2m 48s\tremaining: 3m 41s\n",
      "432:\tlearn: 0.3892983\ttotal: 2m 48s\tremaining: 3m 40s\n",
      "433:\tlearn: 0.3892785\ttotal: 2m 49s\tremaining: 3m 40s\n",
      "434:\tlearn: 0.3892530\ttotal: 2m 49s\tremaining: 3m 40s\n",
      "435:\tlearn: 0.3892438\ttotal: 2m 49s\tremaining: 3m 39s\n",
      "436:\tlearn: 0.3892356\ttotal: 2m 50s\tremaining: 3m 39s\n",
      "437:\tlearn: 0.3892242\ttotal: 2m 50s\tremaining: 3m 38s\n",
      "438:\tlearn: 0.3891873\ttotal: 2m 50s\tremaining: 3m 38s\n",
      "439:\tlearn: 0.3891481\ttotal: 2m 51s\tremaining: 3m 38s\n",
      "440:\tlearn: 0.3891308\ttotal: 2m 51s\tremaining: 3m 37s\n",
      "441:\tlearn: 0.3890964\ttotal: 2m 52s\tremaining: 3m 37s\n",
      "442:\tlearn: 0.3890487\ttotal: 2m 52s\tremaining: 3m 36s\n",
      "443:\tlearn: 0.3890375\ttotal: 2m 52s\tremaining: 3m 36s\n",
      "444:\tlearn: 0.3889852\ttotal: 2m 53s\tremaining: 3m 36s\n",
      "445:\tlearn: 0.3889515\ttotal: 2m 53s\tremaining: 3m 35s\n",
      "446:\tlearn: 0.3889274\ttotal: 2m 54s\tremaining: 3m 35s\n",
      "447:\tlearn: 0.3888880\ttotal: 2m 54s\tremaining: 3m 34s\n",
      "448:\tlearn: 0.3888774\ttotal: 2m 54s\tremaining: 3m 34s\n",
      "449:\tlearn: 0.3888721\ttotal: 2m 55s\tremaining: 3m 34s\n",
      "450:\tlearn: 0.3888603\ttotal: 2m 55s\tremaining: 3m 33s\n",
      "451:\tlearn: 0.3888520\ttotal: 2m 56s\tremaining: 3m 33s\n",
      "452:\tlearn: 0.3888344\ttotal: 2m 56s\tremaining: 3m 33s\n",
      "453:\tlearn: 0.3887946\ttotal: 2m 56s\tremaining: 3m 32s\n",
      "454:\tlearn: 0.3887738\ttotal: 2m 57s\tremaining: 3m 32s\n",
      "455:\tlearn: 0.3887401\ttotal: 2m 57s\tremaining: 3m 31s\n",
      "456:\tlearn: 0.3887180\ttotal: 2m 58s\tremaining: 3m 31s\n",
      "457:\tlearn: 0.3886921\ttotal: 2m 58s\tremaining: 3m 31s\n",
      "458:\tlearn: 0.3886645\ttotal: 2m 59s\tremaining: 3m 31s\n",
      "459:\tlearn: 0.3886510\ttotal: 2m 59s\tremaining: 3m 30s\n",
      "460:\tlearn: 0.3886369\ttotal: 2m 59s\tremaining: 3m 30s\n",
      "461:\tlearn: 0.3886089\ttotal: 3m\tremaining: 3m 29s\n",
      "462:\tlearn: 0.3885648\ttotal: 3m\tremaining: 3m 29s\n",
      "463:\tlearn: 0.3885236\ttotal: 3m 1s\tremaining: 3m 29s\n",
      "464:\tlearn: 0.3885086\ttotal: 3m 1s\tremaining: 3m 28s\n",
      "465:\tlearn: 0.3884808\ttotal: 3m 1s\tremaining: 3m 28s\n",
      "466:\tlearn: 0.3884467\ttotal: 3m 2s\tremaining: 3m 28s\n",
      "467:\tlearn: 0.3884110\ttotal: 3m 2s\tremaining: 3m 27s\n",
      "468:\tlearn: 0.3883722\ttotal: 3m 3s\tremaining: 3m 27s\n",
      "469:\tlearn: 0.3883443\ttotal: 3m 3s\tremaining: 3m 26s\n",
      "470:\tlearn: 0.3883101\ttotal: 3m 3s\tremaining: 3m 26s\n",
      "471:\tlearn: 0.3882870\ttotal: 3m 4s\tremaining: 3m 26s\n",
      "472:\tlearn: 0.3882537\ttotal: 3m 4s\tremaining: 3m 25s\n",
      "473:\tlearn: 0.3882143\ttotal: 3m 5s\tremaining: 3m 25s\n",
      "474:\tlearn: 0.3881953\ttotal: 3m 5s\tremaining: 3m 25s\n",
      "475:\tlearn: 0.3881835\ttotal: 3m 5s\tremaining: 3m 24s\n",
      "476:\tlearn: 0.3881586\ttotal: 3m 6s\tremaining: 3m 24s\n",
      "477:\tlearn: 0.3881347\ttotal: 3m 6s\tremaining: 3m 23s\n",
      "478:\tlearn: 0.3881019\ttotal: 3m 7s\tremaining: 3m 23s\n",
      "479:\tlearn: 0.3880819\ttotal: 3m 7s\tremaining: 3m 23s\n",
      "480:\tlearn: 0.3880453\ttotal: 3m 7s\tremaining: 3m 22s\n",
      "481:\tlearn: 0.3880300\ttotal: 3m 8s\tremaining: 3m 22s\n",
      "482:\tlearn: 0.3880025\ttotal: 3m 8s\tremaining: 3m 21s\n",
      "483:\tlearn: 0.3879903\ttotal: 3m 8s\tremaining: 3m 21s\n",
      "484:\tlearn: 0.3879687\ttotal: 3m 9s\tremaining: 3m 21s\n",
      "485:\tlearn: 0.3879188\ttotal: 3m 9s\tremaining: 3m 20s\n",
      "486:\tlearn: 0.3878744\ttotal: 3m 10s\tremaining: 3m 20s\n",
      "487:\tlearn: 0.3878523\ttotal: 3m 10s\tremaining: 3m 19s\n",
      "488:\tlearn: 0.3878307\ttotal: 3m 10s\tremaining: 3m 19s\n",
      "489:\tlearn: 0.3878116\ttotal: 3m 11s\tremaining: 3m 19s\n",
      "490:\tlearn: 0.3877933\ttotal: 3m 11s\tremaining: 3m 18s\n",
      "491:\tlearn: 0.3877782\ttotal: 3m 12s\tremaining: 3m 18s\n",
      "492:\tlearn: 0.3877612\ttotal: 3m 12s\tremaining: 3m 17s\n",
      "493:\tlearn: 0.3877396\ttotal: 3m 12s\tremaining: 3m 17s\n",
      "494:\tlearn: 0.3877082\ttotal: 3m 13s\tremaining: 3m 17s\n",
      "495:\tlearn: 0.3876856\ttotal: 3m 13s\tremaining: 3m 16s\n",
      "496:\tlearn: 0.3876696\ttotal: 3m 14s\tremaining: 3m 16s\n",
      "497:\tlearn: 0.3876343\ttotal: 3m 14s\tremaining: 3m 15s\n",
      "498:\tlearn: 0.3876191\ttotal: 3m 14s\tremaining: 3m 15s\n",
      "499:\tlearn: 0.3875926\ttotal: 3m 15s\tremaining: 3m 15s\n",
      "500:\tlearn: 0.3875675\ttotal: 3m 15s\tremaining: 3m 14s\n",
      "501:\tlearn: 0.3875601\ttotal: 3m 15s\tremaining: 3m 14s\n",
      "502:\tlearn: 0.3875487\ttotal: 3m 16s\tremaining: 3m 13s\n",
      "503:\tlearn: 0.3875384\ttotal: 3m 16s\tremaining: 3m 13s\n",
      "504:\tlearn: 0.3875096\ttotal: 3m 17s\tremaining: 3m 13s\n",
      "505:\tlearn: 0.3874926\ttotal: 3m 17s\tremaining: 3m 12s\n",
      "506:\tlearn: 0.3874629\ttotal: 3m 18s\tremaining: 3m 12s\n",
      "507:\tlearn: 0.3874355\ttotal: 3m 18s\tremaining: 3m 12s\n",
      "508:\tlearn: 0.3874252\ttotal: 3m 18s\tremaining: 3m 11s\n",
      "509:\tlearn: 0.3874029\ttotal: 3m 19s\tremaining: 3m 11s\n",
      "510:\tlearn: 0.3873868\ttotal: 3m 19s\tremaining: 3m 11s\n",
      "511:\tlearn: 0.3873394\ttotal: 3m 20s\tremaining: 3m 10s\n",
      "512:\tlearn: 0.3873246\ttotal: 3m 20s\tremaining: 3m 10s\n",
      "513:\tlearn: 0.3872973\ttotal: 3m 20s\tremaining: 3m 10s\n",
      "514:\tlearn: 0.3872822\ttotal: 3m 21s\tremaining: 3m 9s\n",
      "515:\tlearn: 0.3872589\ttotal: 3m 21s\tremaining: 3m 9s\n",
      "516:\tlearn: 0.3872450\ttotal: 3m 22s\tremaining: 3m 8s\n",
      "517:\tlearn: 0.3872174\ttotal: 3m 22s\tremaining: 3m 8s\n",
      "518:\tlearn: 0.3871866\ttotal: 3m 22s\tremaining: 3m 8s\n",
      "519:\tlearn: 0.3871592\ttotal: 3m 23s\tremaining: 3m 7s\n",
      "520:\tlearn: 0.3871309\ttotal: 3m 23s\tremaining: 3m 7s\n",
      "521:\tlearn: 0.3871191\ttotal: 3m 24s\tremaining: 3m 6s\n",
      "522:\tlearn: 0.3870912\ttotal: 3m 24s\tremaining: 3m 6s\n",
      "523:\tlearn: 0.3870652\ttotal: 3m 24s\tremaining: 3m 6s\n",
      "524:\tlearn: 0.3870514\ttotal: 3m 25s\tremaining: 3m 5s\n",
      "525:\tlearn: 0.3870176\ttotal: 3m 25s\tremaining: 3m 5s\n",
      "526:\tlearn: 0.3869980\ttotal: 3m 26s\tremaining: 3m 4s\n",
      "527:\tlearn: 0.3869792\ttotal: 3m 26s\tremaining: 3m 4s\n",
      "528:\tlearn: 0.3869590\ttotal: 3m 26s\tremaining: 3m 4s\n",
      "529:\tlearn: 0.3869319\ttotal: 3m 27s\tremaining: 3m 3s\n",
      "530:\tlearn: 0.3869083\ttotal: 3m 27s\tremaining: 3m 3s\n",
      "531:\tlearn: 0.3868838\ttotal: 3m 28s\tremaining: 3m 3s\n",
      "532:\tlearn: 0.3868673\ttotal: 3m 28s\tremaining: 3m 2s\n",
      "533:\tlearn: 0.3868388\ttotal: 3m 28s\tremaining: 3m 2s\n",
      "534:\tlearn: 0.3868285\ttotal: 3m 29s\tremaining: 3m 1s\n",
      "535:\tlearn: 0.3868034\ttotal: 3m 29s\tremaining: 3m 1s\n",
      "536:\tlearn: 0.3867740\ttotal: 3m 30s\tremaining: 3m 1s\n",
      "537:\tlearn: 0.3867425\ttotal: 3m 30s\tremaining: 3m\n",
      "538:\tlearn: 0.3867151\ttotal: 3m 30s\tremaining: 3m\n",
      "539:\tlearn: 0.3866833\ttotal: 3m 31s\tremaining: 2m 59s\n",
      "540:\tlearn: 0.3866604\ttotal: 3m 31s\tremaining: 2m 59s\n",
      "541:\tlearn: 0.3866413\ttotal: 3m 32s\tremaining: 2m 59s\n",
      "542:\tlearn: 0.3866145\ttotal: 3m 32s\tremaining: 2m 58s\n",
      "543:\tlearn: 0.3865951\ttotal: 3m 32s\tremaining: 2m 58s\n",
      "544:\tlearn: 0.3865720\ttotal: 3m 33s\tremaining: 2m 58s\n",
      "545:\tlearn: 0.3865376\ttotal: 3m 33s\tremaining: 2m 57s\n",
      "546:\tlearn: 0.3865273\ttotal: 3m 34s\tremaining: 2m 57s\n",
      "547:\tlearn: 0.3865158\ttotal: 3m 34s\tremaining: 2m 56s\n",
      "548:\tlearn: 0.3864855\ttotal: 3m 34s\tremaining: 2m 56s\n",
      "549:\tlearn: 0.3864605\ttotal: 3m 35s\tremaining: 2m 56s\n",
      "550:\tlearn: 0.3864352\ttotal: 3m 35s\tremaining: 2m 55s\n",
      "551:\tlearn: 0.3864216\ttotal: 3m 36s\tremaining: 2m 55s\n",
      "552:\tlearn: 0.3863982\ttotal: 3m 36s\tremaining: 2m 54s\n",
      "553:\tlearn: 0.3863833\ttotal: 3m 36s\tremaining: 2m 54s\n",
      "554:\tlearn: 0.3863710\ttotal: 3m 37s\tremaining: 2m 54s\n",
      "555:\tlearn: 0.3863503\ttotal: 3m 37s\tremaining: 2m 53s\n",
      "556:\tlearn: 0.3863356\ttotal: 3m 38s\tremaining: 2m 53s\n",
      "557:\tlearn: 0.3863182\ttotal: 3m 38s\tremaining: 2m 53s\n",
      "558:\tlearn: 0.3862906\ttotal: 3m 38s\tremaining: 2m 52s\n",
      "559:\tlearn: 0.3862686\ttotal: 3m 39s\tremaining: 2m 52s\n",
      "560:\tlearn: 0.3862442\ttotal: 3m 39s\tremaining: 2m 51s\n",
      "561:\tlearn: 0.3862177\ttotal: 3m 39s\tremaining: 2m 51s\n",
      "562:\tlearn: 0.3862001\ttotal: 3m 40s\tremaining: 2m 51s\n",
      "563:\tlearn: 0.3861713\ttotal: 3m 40s\tremaining: 2m 50s\n",
      "564:\tlearn: 0.3861493\ttotal: 3m 41s\tremaining: 2m 50s\n",
      "565:\tlearn: 0.3861393\ttotal: 3m 41s\tremaining: 2m 49s\n",
      "566:\tlearn: 0.3861220\ttotal: 3m 41s\tremaining: 2m 49s\n",
      "567:\tlearn: 0.3861054\ttotal: 3m 42s\tremaining: 2m 49s\n",
      "568:\tlearn: 0.3860876\ttotal: 3m 42s\tremaining: 2m 48s\n",
      "569:\tlearn: 0.3860667\ttotal: 3m 43s\tremaining: 2m 48s\n",
      "570:\tlearn: 0.3860508\ttotal: 3m 43s\tremaining: 2m 47s\n",
      "571:\tlearn: 0.3860155\ttotal: 3m 43s\tremaining: 2m 47s\n",
      "572:\tlearn: 0.3859864\ttotal: 3m 44s\tremaining: 2m 47s\n",
      "573:\tlearn: 0.3859595\ttotal: 3m 44s\tremaining: 2m 46s\n",
      "574:\tlearn: 0.3859378\ttotal: 3m 44s\tremaining: 2m 46s\n",
      "575:\tlearn: 0.3859134\ttotal: 3m 45s\tremaining: 2m 45s\n",
      "576:\tlearn: 0.3858792\ttotal: 3m 45s\tremaining: 2m 45s\n",
      "577:\tlearn: 0.3858612\ttotal: 3m 46s\tremaining: 2m 45s\n",
      "578:\tlearn: 0.3858459\ttotal: 3m 46s\tremaining: 2m 44s\n",
      "579:\tlearn: 0.3858309\ttotal: 3m 46s\tremaining: 2m 44s\n",
      "580:\tlearn: 0.3858038\ttotal: 3m 47s\tremaining: 2m 43s\n",
      "581:\tlearn: 0.3857773\ttotal: 3m 47s\tremaining: 2m 43s\n",
      "582:\tlearn: 0.3857645\ttotal: 3m 47s\tremaining: 2m 43s\n",
      "583:\tlearn: 0.3857473\ttotal: 3m 48s\tremaining: 2m 42s\n",
      "584:\tlearn: 0.3857149\ttotal: 3m 48s\tremaining: 2m 42s\n",
      "585:\tlearn: 0.3856863\ttotal: 3m 49s\tremaining: 2m 41s\n",
      "586:\tlearn: 0.3856635\ttotal: 3m 49s\tremaining: 2m 41s\n",
      "587:\tlearn: 0.3856538\ttotal: 3m 49s\tremaining: 2m 41s\n",
      "588:\tlearn: 0.3856404\ttotal: 3m 50s\tremaining: 2m 40s\n",
      "589:\tlearn: 0.3856164\ttotal: 3m 50s\tremaining: 2m 40s\n",
      "590:\tlearn: 0.3855989\ttotal: 3m 51s\tremaining: 2m 39s\n",
      "591:\tlearn: 0.3855789\ttotal: 3m 51s\tremaining: 2m 39s\n",
      "592:\tlearn: 0.3855595\ttotal: 3m 51s\tremaining: 2m 39s\n",
      "593:\tlearn: 0.3855422\ttotal: 3m 52s\tremaining: 2m 38s\n",
      "594:\tlearn: 0.3855275\ttotal: 3m 52s\tremaining: 2m 38s\n",
      "595:\tlearn: 0.3855052\ttotal: 3m 52s\tremaining: 2m 37s\n",
      "596:\tlearn: 0.3854972\ttotal: 3m 53s\tremaining: 2m 37s\n",
      "597:\tlearn: 0.3854770\ttotal: 3m 53s\tremaining: 2m 37s\n",
      "598:\tlearn: 0.3854681\ttotal: 3m 54s\tremaining: 2m 36s\n",
      "599:\tlearn: 0.3854284\ttotal: 3m 54s\tremaining: 2m 36s\n",
      "600:\tlearn: 0.3854092\ttotal: 3m 54s\tremaining: 2m 35s\n",
      "601:\tlearn: 0.3853756\ttotal: 3m 55s\tremaining: 2m 35s\n",
      "602:\tlearn: 0.3853678\ttotal: 3m 55s\tremaining: 2m 35s\n",
      "603:\tlearn: 0.3853360\ttotal: 3m 56s\tremaining: 2m 34s\n",
      "604:\tlearn: 0.3853168\ttotal: 3m 56s\tremaining: 2m 34s\n",
      "605:\tlearn: 0.3852955\ttotal: 3m 56s\tremaining: 2m 33s\n",
      "606:\tlearn: 0.3852825\ttotal: 3m 57s\tremaining: 2m 33s\n",
      "607:\tlearn: 0.3852685\ttotal: 3m 57s\tremaining: 2m 33s\n",
      "608:\tlearn: 0.3852442\ttotal: 3m 57s\tremaining: 2m 32s\n",
      "609:\tlearn: 0.3852278\ttotal: 3m 58s\tremaining: 2m 32s\n",
      "610:\tlearn: 0.3851997\ttotal: 3m 58s\tremaining: 2m 31s\n",
      "611:\tlearn: 0.3851769\ttotal: 3m 59s\tremaining: 2m 31s\n",
      "612:\tlearn: 0.3851566\ttotal: 3m 59s\tremaining: 2m 31s\n",
      "613:\tlearn: 0.3851395\ttotal: 3m 59s\tremaining: 2m 30s\n",
      "614:\tlearn: 0.3851161\ttotal: 4m\tremaining: 2m 30s\n",
      "615:\tlearn: 0.3850846\ttotal: 4m\tremaining: 2m 29s\n",
      "616:\tlearn: 0.3850581\ttotal: 4m\tremaining: 2m 29s\n",
      "617:\tlearn: 0.3850340\ttotal: 4m 1s\tremaining: 2m 29s\n",
      "618:\tlearn: 0.3850058\ttotal: 4m 1s\tremaining: 2m 28s\n",
      "619:\tlearn: 0.3849795\ttotal: 4m 1s\tremaining: 2m 28s\n",
      "620:\tlearn: 0.3849721\ttotal: 4m 2s\tremaining: 2m 27s\n",
      "621:\tlearn: 0.3849641\ttotal: 4m 2s\tremaining: 2m 27s\n",
      "622:\tlearn: 0.3849263\ttotal: 4m 3s\tremaining: 2m 27s\n",
      "623:\tlearn: 0.3849178\ttotal: 4m 3s\tremaining: 2m 26s\n",
      "624:\tlearn: 0.3849099\ttotal: 4m 3s\tremaining: 2m 26s\n",
      "625:\tlearn: 0.3848803\ttotal: 4m 4s\tremaining: 2m 25s\n",
      "626:\tlearn: 0.3848647\ttotal: 4m 4s\tremaining: 2m 25s\n",
      "627:\tlearn: 0.3848374\ttotal: 4m 4s\tremaining: 2m 25s\n",
      "628:\tlearn: 0.3848183\ttotal: 4m 5s\tremaining: 2m 24s\n",
      "629:\tlearn: 0.3848002\ttotal: 4m 5s\tremaining: 2m 24s\n",
      "630:\tlearn: 0.3847697\ttotal: 4m 6s\tremaining: 2m 23s\n",
      "631:\tlearn: 0.3847351\ttotal: 4m 6s\tremaining: 2m 23s\n",
      "632:\tlearn: 0.3847175\ttotal: 4m 6s\tremaining: 2m 23s\n",
      "633:\tlearn: 0.3846997\ttotal: 4m 7s\tremaining: 2m 22s\n",
      "634:\tlearn: 0.3846683\ttotal: 4m 7s\tremaining: 2m 22s\n",
      "635:\tlearn: 0.3846401\ttotal: 4m 7s\tremaining: 2m 21s\n",
      "636:\tlearn: 0.3846174\ttotal: 4m 8s\tremaining: 2m 21s\n",
      "637:\tlearn: 0.3845935\ttotal: 4m 8s\tremaining: 2m 21s\n",
      "638:\tlearn: 0.3845613\ttotal: 4m 9s\tremaining: 2m 20s\n",
      "639:\tlearn: 0.3845405\ttotal: 4m 9s\tremaining: 2m 20s\n",
      "640:\tlearn: 0.3845190\ttotal: 4m 9s\tremaining: 2m 19s\n",
      "641:\tlearn: 0.3844935\ttotal: 4m 10s\tremaining: 2m 19s\n",
      "642:\tlearn: 0.3844660\ttotal: 4m 10s\tremaining: 2m 19s\n",
      "643:\tlearn: 0.3844200\ttotal: 4m 11s\tremaining: 2m 18s\n",
      "644:\tlearn: 0.3844054\ttotal: 4m 11s\tremaining: 2m 18s\n",
      "645:\tlearn: 0.3843759\ttotal: 4m 11s\tremaining: 2m 17s\n",
      "646:\tlearn: 0.3843410\ttotal: 4m 12s\tremaining: 2m 17s\n",
      "647:\tlearn: 0.3843288\ttotal: 4m 12s\tremaining: 2m 17s\n",
      "648:\tlearn: 0.3843122\ttotal: 4m 12s\tremaining: 2m 16s\n",
      "649:\tlearn: 0.3842894\ttotal: 4m 13s\tremaining: 2m 16s\n",
      "650:\tlearn: 0.3842672\ttotal: 4m 13s\tremaining: 2m 15s\n",
      "651:\tlearn: 0.3842464\ttotal: 4m 14s\tremaining: 2m 15s\n",
      "652:\tlearn: 0.3842375\ttotal: 4m 14s\tremaining: 2m 15s\n",
      "653:\tlearn: 0.3842188\ttotal: 4m 14s\tremaining: 2m 14s\n",
      "654:\tlearn: 0.3842079\ttotal: 4m 15s\tremaining: 2m 14s\n",
      "655:\tlearn: 0.3841872\ttotal: 4m 15s\tremaining: 2m 13s\n",
      "656:\tlearn: 0.3841512\ttotal: 4m 15s\tremaining: 2m 13s\n",
      "657:\tlearn: 0.3841322\ttotal: 4m 16s\tremaining: 2m 13s\n",
      "658:\tlearn: 0.3840980\ttotal: 4m 16s\tremaining: 2m 12s\n",
      "659:\tlearn: 0.3840659\ttotal: 4m 17s\tremaining: 2m 12s\n",
      "660:\tlearn: 0.3840487\ttotal: 4m 17s\tremaining: 2m 12s\n",
      "661:\tlearn: 0.3840209\ttotal: 4m 17s\tremaining: 2m 11s\n",
      "662:\tlearn: 0.3840075\ttotal: 4m 18s\tremaining: 2m 11s\n",
      "663:\tlearn: 0.3839954\ttotal: 4m 18s\tremaining: 2m 10s\n",
      "664:\tlearn: 0.3839780\ttotal: 4m 18s\tremaining: 2m 10s\n",
      "665:\tlearn: 0.3839528\ttotal: 4m 19s\tremaining: 2m 10s\n",
      "666:\tlearn: 0.3839138\ttotal: 4m 19s\tremaining: 2m 9s\n",
      "667:\tlearn: 0.3838949\ttotal: 4m 20s\tremaining: 2m 9s\n",
      "668:\tlearn: 0.3838661\ttotal: 4m 20s\tremaining: 2m 8s\n",
      "669:\tlearn: 0.3838481\ttotal: 4m 20s\tremaining: 2m 8s\n",
      "670:\tlearn: 0.3838278\ttotal: 4m 21s\tremaining: 2m 8s\n",
      "671:\tlearn: 0.3837977\ttotal: 4m 21s\tremaining: 2m 7s\n",
      "672:\tlearn: 0.3837594\ttotal: 4m 22s\tremaining: 2m 7s\n",
      "673:\tlearn: 0.3837347\ttotal: 4m 22s\tremaining: 2m 6s\n",
      "674:\tlearn: 0.3837121\ttotal: 4m 22s\tremaining: 2m 6s\n",
      "675:\tlearn: 0.3836647\ttotal: 4m 23s\tremaining: 2m 6s\n",
      "676:\tlearn: 0.3836383\ttotal: 4m 23s\tremaining: 2m 5s\n",
      "677:\tlearn: 0.3836157\ttotal: 4m 23s\tremaining: 2m 5s\n",
      "678:\tlearn: 0.3836045\ttotal: 4m 24s\tremaining: 2m 4s\n",
      "679:\tlearn: 0.3835783\ttotal: 4m 24s\tremaining: 2m 4s\n",
      "680:\tlearn: 0.3835587\ttotal: 4m 25s\tremaining: 2m 4s\n",
      "681:\tlearn: 0.3835297\ttotal: 4m 25s\tremaining: 2m 3s\n",
      "682:\tlearn: 0.3834990\ttotal: 4m 25s\tremaining: 2m 3s\n",
      "683:\tlearn: 0.3834761\ttotal: 4m 26s\tremaining: 2m 3s\n",
      "684:\tlearn: 0.3834595\ttotal: 4m 26s\tremaining: 2m 2s\n",
      "685:\tlearn: 0.3834198\ttotal: 4m 27s\tremaining: 2m 2s\n",
      "686:\tlearn: 0.3833939\ttotal: 4m 27s\tremaining: 2m 1s\n",
      "687:\tlearn: 0.3833749\ttotal: 4m 27s\tremaining: 2m 1s\n",
      "688:\tlearn: 0.3833594\ttotal: 4m 28s\tremaining: 2m 1s\n",
      "689:\tlearn: 0.3833355\ttotal: 4m 28s\tremaining: 2m\n",
      "690:\tlearn: 0.3833155\ttotal: 4m 29s\tremaining: 2m\n",
      "691:\tlearn: 0.3832860\ttotal: 4m 29s\tremaining: 1m 59s\n",
      "692:\tlearn: 0.3832771\ttotal: 4m 29s\tremaining: 1m 59s\n",
      "693:\tlearn: 0.3832585\ttotal: 4m 30s\tremaining: 1m 59s\n",
      "694:\tlearn: 0.3832261\ttotal: 4m 30s\tremaining: 1m 58s\n",
      "695:\tlearn: 0.3831962\ttotal: 4m 31s\tremaining: 1m 58s\n",
      "696:\tlearn: 0.3831751\ttotal: 4m 31s\tremaining: 1m 57s\n",
      "697:\tlearn: 0.3831408\ttotal: 4m 31s\tremaining: 1m 57s\n",
      "698:\tlearn: 0.3831287\ttotal: 4m 32s\tremaining: 1m 57s\n",
      "699:\tlearn: 0.3831030\ttotal: 4m 32s\tremaining: 1m 56s\n",
      "700:\tlearn: 0.3830840\ttotal: 4m 33s\tremaining: 1m 56s\n",
      "701:\tlearn: 0.3830688\ttotal: 4m 33s\tremaining: 1m 56s\n",
      "702:\tlearn: 0.3830486\ttotal: 4m 33s\tremaining: 1m 55s\n",
      "703:\tlearn: 0.3830118\ttotal: 4m 34s\tremaining: 1m 55s\n",
      "704:\tlearn: 0.3829764\ttotal: 4m 34s\tremaining: 1m 54s\n",
      "705:\tlearn: 0.3829553\ttotal: 4m 34s\tremaining: 1m 54s\n",
      "706:\tlearn: 0.3829170\ttotal: 4m 35s\tremaining: 1m 54s\n",
      "707:\tlearn: 0.3828951\ttotal: 4m 35s\tremaining: 1m 53s\n",
      "708:\tlearn: 0.3828760\ttotal: 4m 36s\tremaining: 1m 53s\n",
      "709:\tlearn: 0.3828634\ttotal: 4m 36s\tremaining: 1m 52s\n",
      "710:\tlearn: 0.3828355\ttotal: 4m 36s\tremaining: 1m 52s\n",
      "711:\tlearn: 0.3828184\ttotal: 4m 37s\tremaining: 1m 52s\n",
      "712:\tlearn: 0.3827976\ttotal: 4m 37s\tremaining: 1m 51s\n",
      "713:\tlearn: 0.3827841\ttotal: 4m 38s\tremaining: 1m 51s\n",
      "714:\tlearn: 0.3827622\ttotal: 4m 38s\tremaining: 1m 50s\n",
      "715:\tlearn: 0.3827520\ttotal: 4m 38s\tremaining: 1m 50s\n",
      "716:\tlearn: 0.3827330\ttotal: 4m 39s\tremaining: 1m 50s\n",
      "717:\tlearn: 0.3827065\ttotal: 4m 39s\tremaining: 1m 49s\n",
      "718:\tlearn: 0.3826871\ttotal: 4m 39s\tremaining: 1m 49s\n",
      "719:\tlearn: 0.3826739\ttotal: 4m 40s\tremaining: 1m 49s\n",
      "720:\tlearn: 0.3826592\ttotal: 4m 40s\tremaining: 1m 48s\n",
      "721:\tlearn: 0.3826385\ttotal: 4m 41s\tremaining: 1m 48s\n",
      "722:\tlearn: 0.3826223\ttotal: 4m 41s\tremaining: 1m 47s\n",
      "723:\tlearn: 0.3826106\ttotal: 4m 41s\tremaining: 1m 47s\n",
      "724:\tlearn: 0.3826001\ttotal: 4m 42s\tremaining: 1m 47s\n",
      "725:\tlearn: 0.3825687\ttotal: 4m 42s\tremaining: 1m 46s\n",
      "726:\tlearn: 0.3825252\ttotal: 4m 42s\tremaining: 1m 46s\n",
      "727:\tlearn: 0.3825069\ttotal: 4m 43s\tremaining: 1m 45s\n",
      "728:\tlearn: 0.3824967\ttotal: 4m 43s\tremaining: 1m 45s\n",
      "729:\tlearn: 0.3824852\ttotal: 4m 44s\tremaining: 1m 45s\n",
      "730:\tlearn: 0.3824672\ttotal: 4m 44s\tremaining: 1m 44s\n",
      "731:\tlearn: 0.3824423\ttotal: 4m 44s\tremaining: 1m 44s\n",
      "732:\tlearn: 0.3824083\ttotal: 4m 45s\tremaining: 1m 43s\n",
      "733:\tlearn: 0.3823783\ttotal: 4m 45s\tremaining: 1m 43s\n",
      "734:\tlearn: 0.3823625\ttotal: 4m 46s\tremaining: 1m 43s\n",
      "735:\tlearn: 0.3823424\ttotal: 4m 46s\tremaining: 1m 42s\n",
      "736:\tlearn: 0.3823237\ttotal: 4m 46s\tremaining: 1m 42s\n",
      "737:\tlearn: 0.3823063\ttotal: 4m 47s\tremaining: 1m 42s\n",
      "738:\tlearn: 0.3822867\ttotal: 4m 47s\tremaining: 1m 41s\n",
      "739:\tlearn: 0.3822497\ttotal: 4m 48s\tremaining: 1m 41s\n",
      "740:\tlearn: 0.3822216\ttotal: 4m 48s\tremaining: 1m 40s\n",
      "741:\tlearn: 0.3821964\ttotal: 4m 48s\tremaining: 1m 40s\n",
      "742:\tlearn: 0.3821830\ttotal: 4m 49s\tremaining: 1m 40s\n",
      "743:\tlearn: 0.3821615\ttotal: 4m 49s\tremaining: 1m 39s\n",
      "744:\tlearn: 0.3821518\ttotal: 4m 50s\tremaining: 1m 39s\n",
      "745:\tlearn: 0.3821283\ttotal: 4m 50s\tremaining: 1m 38s\n",
      "746:\tlearn: 0.3821153\ttotal: 4m 50s\tremaining: 1m 38s\n",
      "747:\tlearn: 0.3821008\ttotal: 4m 51s\tremaining: 1m 38s\n",
      "748:\tlearn: 0.3820800\ttotal: 4m 51s\tremaining: 1m 37s\n",
      "749:\tlearn: 0.3820640\ttotal: 4m 51s\tremaining: 1m 37s\n",
      "750:\tlearn: 0.3820457\ttotal: 4m 52s\tremaining: 1m 36s\n",
      "751:\tlearn: 0.3820284\ttotal: 4m 52s\tremaining: 1m 36s\n",
      "752:\tlearn: 0.3820165\ttotal: 4m 53s\tremaining: 1m 36s\n",
      "753:\tlearn: 0.3819958\ttotal: 4m 53s\tremaining: 1m 35s\n",
      "754:\tlearn: 0.3819555\ttotal: 4m 53s\tremaining: 1m 35s\n",
      "755:\tlearn: 0.3819270\ttotal: 4m 54s\tremaining: 1m 34s\n",
      "756:\tlearn: 0.3819037\ttotal: 4m 54s\tremaining: 1m 34s\n",
      "757:\tlearn: 0.3818786\ttotal: 4m 55s\tremaining: 1m 34s\n",
      "758:\tlearn: 0.3818634\ttotal: 4m 55s\tremaining: 1m 33s\n",
      "759:\tlearn: 0.3818474\ttotal: 4m 55s\tremaining: 1m 33s\n",
      "760:\tlearn: 0.3818185\ttotal: 4m 56s\tremaining: 1m 33s\n",
      "761:\tlearn: 0.3817998\ttotal: 4m 56s\tremaining: 1m 32s\n",
      "762:\tlearn: 0.3817698\ttotal: 4m 57s\tremaining: 1m 32s\n",
      "763:\tlearn: 0.3817322\ttotal: 4m 57s\tremaining: 1m 31s\n",
      "764:\tlearn: 0.3817109\ttotal: 4m 58s\tremaining: 1m 31s\n",
      "765:\tlearn: 0.3816991\ttotal: 4m 58s\tremaining: 1m 31s\n",
      "766:\tlearn: 0.3816858\ttotal: 4m 58s\tremaining: 1m 30s\n",
      "767:\tlearn: 0.3816621\ttotal: 4m 59s\tremaining: 1m 30s\n",
      "768:\tlearn: 0.3816455\ttotal: 4m 59s\tremaining: 1m 30s\n",
      "769:\tlearn: 0.3816138\ttotal: 5m\tremaining: 1m 29s\n",
      "770:\tlearn: 0.3816019\ttotal: 5m\tremaining: 1m 29s\n",
      "771:\tlearn: 0.3815840\ttotal: 5m 1s\tremaining: 1m 28s\n",
      "772:\tlearn: 0.3815680\ttotal: 5m 1s\tremaining: 1m 28s\n",
      "773:\tlearn: 0.3815366\ttotal: 5m 2s\tremaining: 1m 28s\n",
      "774:\tlearn: 0.3815122\ttotal: 5m 2s\tremaining: 1m 27s\n",
      "775:\tlearn: 0.3814769\ttotal: 5m 3s\tremaining: 1m 27s\n",
      "776:\tlearn: 0.3814401\ttotal: 5m 3s\tremaining: 1m 27s\n",
      "777:\tlearn: 0.3814148\ttotal: 5m 4s\tremaining: 1m 26s\n",
      "778:\tlearn: 0.3813992\ttotal: 5m 4s\tremaining: 1m 26s\n",
      "779:\tlearn: 0.3813726\ttotal: 5m 5s\tremaining: 1m 26s\n",
      "780:\tlearn: 0.3813473\ttotal: 5m 5s\tremaining: 1m 25s\n",
      "781:\tlearn: 0.3813174\ttotal: 5m 6s\tremaining: 1m 25s\n",
      "782:\tlearn: 0.3812877\ttotal: 5m 6s\tremaining: 1m 24s\n",
      "783:\tlearn: 0.3812622\ttotal: 5m 6s\tremaining: 1m 24s\n",
      "784:\tlearn: 0.3812466\ttotal: 5m 7s\tremaining: 1m 24s\n",
      "785:\tlearn: 0.3812258\ttotal: 5m 7s\tremaining: 1m 23s\n",
      "786:\tlearn: 0.3812134\ttotal: 5m 8s\tremaining: 1m 23s\n",
      "787:\tlearn: 0.3812039\ttotal: 5m 8s\tremaining: 1m 23s\n",
      "788:\tlearn: 0.3811742\ttotal: 5m 8s\tremaining: 1m 22s\n",
      "789:\tlearn: 0.3811630\ttotal: 5m 9s\tremaining: 1m 22s\n",
      "790:\tlearn: 0.3811454\ttotal: 5m 9s\tremaining: 1m 21s\n",
      "791:\tlearn: 0.3811347\ttotal: 5m 10s\tremaining: 1m 21s\n",
      "792:\tlearn: 0.3811114\ttotal: 5m 10s\tremaining: 1m 21s\n",
      "793:\tlearn: 0.3810937\ttotal: 5m 11s\tremaining: 1m 20s\n",
      "794:\tlearn: 0.3810760\ttotal: 5m 11s\tremaining: 1m 20s\n",
      "795:\tlearn: 0.3810547\ttotal: 5m 12s\tremaining: 1m 19s\n",
      "796:\tlearn: 0.3810296\ttotal: 5m 12s\tremaining: 1m 19s\n",
      "797:\tlearn: 0.3810168\ttotal: 5m 12s\tremaining: 1m 19s\n",
      "798:\tlearn: 0.3810009\ttotal: 5m 13s\tremaining: 1m 18s\n",
      "799:\tlearn: 0.3809449\ttotal: 5m 13s\tremaining: 1m 18s\n",
      "800:\tlearn: 0.3809276\ttotal: 5m 14s\tremaining: 1m 18s\n",
      "801:\tlearn: 0.3809145\ttotal: 5m 14s\tremaining: 1m 17s\n",
      "802:\tlearn: 0.3809055\ttotal: 5m 14s\tremaining: 1m 17s\n",
      "803:\tlearn: 0.3808875\ttotal: 5m 15s\tremaining: 1m 16s\n",
      "804:\tlearn: 0.3808589\ttotal: 5m 15s\tremaining: 1m 16s\n",
      "805:\tlearn: 0.3808359\ttotal: 5m 16s\tremaining: 1m 16s\n",
      "806:\tlearn: 0.3808150\ttotal: 5m 16s\tremaining: 1m 15s\n",
      "807:\tlearn: 0.3807955\ttotal: 5m 16s\tremaining: 1m 15s\n",
      "808:\tlearn: 0.3807658\ttotal: 5m 17s\tremaining: 1m 14s\n",
      "809:\tlearn: 0.3807361\ttotal: 5m 17s\tremaining: 1m 14s\n",
      "810:\tlearn: 0.3807139\ttotal: 5m 18s\tremaining: 1m 14s\n",
      "811:\tlearn: 0.3807096\ttotal: 5m 18s\tremaining: 1m 13s\n",
      "812:\tlearn: 0.3806967\ttotal: 5m 19s\tremaining: 1m 13s\n",
      "813:\tlearn: 0.3806786\ttotal: 5m 19s\tremaining: 1m 13s\n",
      "814:\tlearn: 0.3806567\ttotal: 5m 19s\tremaining: 1m 12s\n",
      "815:\tlearn: 0.3806399\ttotal: 5m 20s\tremaining: 1m 12s\n",
      "816:\tlearn: 0.3806149\ttotal: 5m 20s\tremaining: 1m 11s\n",
      "817:\tlearn: 0.3805989\ttotal: 5m 21s\tremaining: 1m 11s\n",
      "818:\tlearn: 0.3805800\ttotal: 5m 21s\tremaining: 1m 11s\n",
      "819:\tlearn: 0.3805561\ttotal: 5m 22s\tremaining: 1m 10s\n",
      "820:\tlearn: 0.3805509\ttotal: 5m 22s\tremaining: 1m 10s\n",
      "821:\tlearn: 0.3805224\ttotal: 5m 23s\tremaining: 1m 9s\n",
      "822:\tlearn: 0.3804893\ttotal: 5m 23s\tremaining: 1m 9s\n",
      "823:\tlearn: 0.3804504\ttotal: 5m 23s\tremaining: 1m 9s\n",
      "824:\tlearn: 0.3804340\ttotal: 5m 24s\tremaining: 1m 8s\n",
      "825:\tlearn: 0.3804066\ttotal: 5m 24s\tremaining: 1m 8s\n",
      "826:\tlearn: 0.3803768\ttotal: 5m 25s\tremaining: 1m 8s\n",
      "827:\tlearn: 0.3803669\ttotal: 5m 25s\tremaining: 1m 7s\n",
      "828:\tlearn: 0.3803545\ttotal: 5m 26s\tremaining: 1m 7s\n",
      "829:\tlearn: 0.3803473\ttotal: 5m 26s\tremaining: 1m 6s\n",
      "830:\tlearn: 0.3803255\ttotal: 5m 27s\tremaining: 1m 6s\n",
      "831:\tlearn: 0.3803091\ttotal: 5m 27s\tremaining: 1m 6s\n",
      "832:\tlearn: 0.3802944\ttotal: 5m 28s\tremaining: 1m 5s\n",
      "833:\tlearn: 0.3802673\ttotal: 5m 28s\tremaining: 1m 5s\n",
      "834:\tlearn: 0.3802384\ttotal: 5m 28s\tremaining: 1m 5s\n",
      "835:\tlearn: 0.3802176\ttotal: 5m 29s\tremaining: 1m 4s\n",
      "836:\tlearn: 0.3801938\ttotal: 5m 29s\tremaining: 1m 4s\n",
      "837:\tlearn: 0.3801767\ttotal: 5m 30s\tremaining: 1m 3s\n",
      "838:\tlearn: 0.3801578\ttotal: 5m 30s\tremaining: 1m 3s\n",
      "839:\tlearn: 0.3801462\ttotal: 5m 31s\tremaining: 1m 3s\n",
      "840:\tlearn: 0.3801298\ttotal: 5m 31s\tremaining: 1m 2s\n",
      "841:\tlearn: 0.3801099\ttotal: 5m 32s\tremaining: 1m 2s\n",
      "842:\tlearn: 0.3800910\ttotal: 5m 32s\tremaining: 1m 1s\n",
      "843:\tlearn: 0.3800730\ttotal: 5m 32s\tremaining: 1m 1s\n",
      "844:\tlearn: 0.3800541\ttotal: 5m 33s\tremaining: 1m 1s\n",
      "845:\tlearn: 0.3800412\ttotal: 5m 33s\tremaining: 1m\n",
      "846:\tlearn: 0.3800173\ttotal: 5m 34s\tremaining: 1m\n",
      "847:\tlearn: 0.3799956\ttotal: 5m 34s\tremaining: 60s\n",
      "848:\tlearn: 0.3799765\ttotal: 5m 34s\tremaining: 59.6s\n",
      "849:\tlearn: 0.3799571\ttotal: 5m 35s\tremaining: 59.2s\n",
      "850:\tlearn: 0.3799360\ttotal: 5m 35s\tremaining: 58.8s\n",
      "851:\tlearn: 0.3799268\ttotal: 5m 36s\tremaining: 58.4s\n",
      "852:\tlearn: 0.3799043\ttotal: 5m 36s\tremaining: 58s\n",
      "853:\tlearn: 0.3798814\ttotal: 5m 37s\tremaining: 57.6s\n",
      "854:\tlearn: 0.3798532\ttotal: 5m 37s\tremaining: 57.2s\n",
      "855:\tlearn: 0.3798342\ttotal: 5m 37s\tremaining: 56.9s\n",
      "856:\tlearn: 0.3798101\ttotal: 5m 38s\tremaining: 56.5s\n",
      "857:\tlearn: 0.3797895\ttotal: 5m 38s\tremaining: 56.1s\n",
      "858:\tlearn: 0.3797701\ttotal: 5m 39s\tremaining: 55.7s\n",
      "859:\tlearn: 0.3797439\ttotal: 5m 39s\tremaining: 55.3s\n",
      "860:\tlearn: 0.3797339\ttotal: 5m 39s\tremaining: 54.9s\n",
      "861:\tlearn: 0.3797108\ttotal: 5m 40s\tremaining: 54.5s\n",
      "862:\tlearn: 0.3796885\ttotal: 5m 40s\tremaining: 54.1s\n",
      "863:\tlearn: 0.3796741\ttotal: 5m 41s\tremaining: 53.7s\n",
      "864:\tlearn: 0.3796613\ttotal: 5m 41s\tremaining: 53.3s\n",
      "865:\tlearn: 0.3796444\ttotal: 5m 42s\tremaining: 52.9s\n",
      "866:\tlearn: 0.3796146\ttotal: 5m 42s\tremaining: 52.6s\n",
      "867:\tlearn: 0.3795981\ttotal: 5m 42s\tremaining: 52.2s\n",
      "868:\tlearn: 0.3795524\ttotal: 5m 43s\tremaining: 51.8s\n",
      "869:\tlearn: 0.3795306\ttotal: 5m 43s\tremaining: 51.4s\n",
      "870:\tlearn: 0.3795162\ttotal: 5m 44s\tremaining: 51s\n",
      "871:\tlearn: 0.3794984\ttotal: 5m 44s\tremaining: 50.6s\n",
      "872:\tlearn: 0.3794853\ttotal: 5m 44s\tremaining: 50.2s\n",
      "873:\tlearn: 0.3794638\ttotal: 5m 45s\tremaining: 49.8s\n",
      "874:\tlearn: 0.3794519\ttotal: 5m 45s\tremaining: 49.4s\n",
      "875:\tlearn: 0.3794253\ttotal: 5m 46s\tremaining: 49s\n",
      "876:\tlearn: 0.3794053\ttotal: 5m 46s\tremaining: 48.6s\n",
      "877:\tlearn: 0.3793774\ttotal: 5m 46s\tremaining: 48.2s\n",
      "878:\tlearn: 0.3793666\ttotal: 5m 47s\tremaining: 47.8s\n",
      "879:\tlearn: 0.3793500\ttotal: 5m 47s\tremaining: 47.4s\n",
      "880:\tlearn: 0.3793410\ttotal: 5m 48s\tremaining: 47s\n",
      "881:\tlearn: 0.3793152\ttotal: 5m 48s\tremaining: 46.6s\n",
      "882:\tlearn: 0.3793037\ttotal: 5m 48s\tremaining: 46.2s\n",
      "883:\tlearn: 0.3792869\ttotal: 5m 49s\tremaining: 45.8s\n",
      "884:\tlearn: 0.3792667\ttotal: 5m 49s\tremaining: 45.4s\n",
      "885:\tlearn: 0.3792417\ttotal: 5m 50s\tremaining: 45s\n",
      "886:\tlearn: 0.3792202\ttotal: 5m 50s\tremaining: 44.6s\n",
      "887:\tlearn: 0.3791988\ttotal: 5m 50s\tremaining: 44.3s\n",
      "888:\tlearn: 0.3791749\ttotal: 5m 51s\tremaining: 43.9s\n",
      "889:\tlearn: 0.3791511\ttotal: 5m 51s\tremaining: 43.5s\n",
      "890:\tlearn: 0.3791349\ttotal: 5m 52s\tremaining: 43.1s\n",
      "891:\tlearn: 0.3791140\ttotal: 5m 52s\tremaining: 42.7s\n",
      "892:\tlearn: 0.3790918\ttotal: 5m 52s\tremaining: 42.3s\n",
      "893:\tlearn: 0.3790734\ttotal: 5m 53s\tremaining: 41.9s\n",
      "894:\tlearn: 0.3790453\ttotal: 5m 53s\tremaining: 41.5s\n",
      "895:\tlearn: 0.3790208\ttotal: 5m 54s\tremaining: 41.1s\n",
      "896:\tlearn: 0.3790034\ttotal: 5m 54s\tremaining: 40.7s\n",
      "897:\tlearn: 0.3789968\ttotal: 5m 54s\tremaining: 40.3s\n",
      "898:\tlearn: 0.3789796\ttotal: 5m 55s\tremaining: 39.9s\n",
      "899:\tlearn: 0.3789679\ttotal: 5m 55s\tremaining: 39.5s\n",
      "900:\tlearn: 0.3789468\ttotal: 5m 56s\tremaining: 39.1s\n",
      "901:\tlearn: 0.3789346\ttotal: 5m 56s\tremaining: 38.7s\n",
      "902:\tlearn: 0.3788974\ttotal: 5m 56s\tremaining: 38.3s\n",
      "903:\tlearn: 0.3788873\ttotal: 5m 57s\tremaining: 37.9s\n",
      "904:\tlearn: 0.3788743\ttotal: 5m 57s\tremaining: 37.5s\n",
      "905:\tlearn: 0.3788576\ttotal: 5m 57s\tremaining: 37.1s\n",
      "906:\tlearn: 0.3788200\ttotal: 5m 58s\tremaining: 36.7s\n",
      "907:\tlearn: 0.3787909\ttotal: 5m 58s\tremaining: 36.3s\n",
      "908:\tlearn: 0.3787788\ttotal: 5m 59s\tremaining: 36s\n",
      "909:\tlearn: 0.3787592\ttotal: 5m 59s\tremaining: 35.6s\n",
      "910:\tlearn: 0.3787356\ttotal: 6m\tremaining: 35.2s\n",
      "911:\tlearn: 0.3787108\ttotal: 6m\tremaining: 34.8s\n",
      "912:\tlearn: 0.3786856\ttotal: 6m\tremaining: 34.4s\n",
      "913:\tlearn: 0.3786596\ttotal: 6m 1s\tremaining: 34s\n",
      "914:\tlearn: 0.3786345\ttotal: 6m 1s\tremaining: 33.6s\n",
      "915:\tlearn: 0.3786200\ttotal: 6m 2s\tremaining: 33.2s\n",
      "916:\tlearn: 0.3786021\ttotal: 6m 2s\tremaining: 32.8s\n",
      "917:\tlearn: 0.3785815\ttotal: 6m 2s\tremaining: 32.4s\n",
      "918:\tlearn: 0.3785646\ttotal: 6m 3s\tremaining: 32s\n",
      "919:\tlearn: 0.3785555\ttotal: 6m 3s\tremaining: 31.6s\n",
      "920:\tlearn: 0.3785382\ttotal: 6m 3s\tremaining: 31.2s\n",
      "921:\tlearn: 0.3785147\ttotal: 6m 4s\tremaining: 30.8s\n",
      "922:\tlearn: 0.3784830\ttotal: 6m 4s\tremaining: 30.4s\n",
      "923:\tlearn: 0.3784760\ttotal: 6m 5s\tremaining: 30s\n",
      "924:\tlearn: 0.3784680\ttotal: 6m 5s\tremaining: 29.6s\n",
      "925:\tlearn: 0.3784442\ttotal: 6m 6s\tremaining: 29.3s\n",
      "926:\tlearn: 0.3784171\ttotal: 6m 6s\tremaining: 28.9s\n",
      "927:\tlearn: 0.3783977\ttotal: 6m 6s\tremaining: 28.5s\n",
      "928:\tlearn: 0.3783698\ttotal: 6m 7s\tremaining: 28.1s\n",
      "929:\tlearn: 0.3783421\ttotal: 6m 7s\tremaining: 27.7s\n",
      "930:\tlearn: 0.3783332\ttotal: 6m 8s\tremaining: 27.3s\n",
      "931:\tlearn: 0.3783254\ttotal: 6m 8s\tremaining: 26.9s\n",
      "932:\tlearn: 0.3783125\ttotal: 6m 8s\tremaining: 26.5s\n",
      "933:\tlearn: 0.3782986\ttotal: 6m 9s\tremaining: 26.1s\n",
      "934:\tlearn: 0.3782800\ttotal: 6m 9s\tremaining: 25.7s\n",
      "935:\tlearn: 0.3782706\ttotal: 6m 10s\tremaining: 25.3s\n",
      "936:\tlearn: 0.3782565\ttotal: 6m 10s\tremaining: 24.9s\n",
      "937:\tlearn: 0.3782316\ttotal: 6m 10s\tremaining: 24.5s\n",
      "938:\tlearn: 0.3782072\ttotal: 6m 11s\tremaining: 24.1s\n",
      "939:\tlearn: 0.3781897\ttotal: 6m 11s\tremaining: 23.7s\n",
      "940:\tlearn: 0.3781859\ttotal: 6m 11s\tremaining: 23.3s\n",
      "941:\tlearn: 0.3781825\ttotal: 6m 12s\tremaining: 22.9s\n",
      "942:\tlearn: 0.3781652\ttotal: 6m 12s\tremaining: 22.5s\n",
      "943:\tlearn: 0.3781433\ttotal: 6m 13s\tremaining: 22.1s\n",
      "944:\tlearn: 0.3781285\ttotal: 6m 13s\tremaining: 21.7s\n",
      "945:\tlearn: 0.3781007\ttotal: 6m 13s\tremaining: 21.3s\n",
      "946:\tlearn: 0.3780794\ttotal: 6m 14s\tremaining: 20.9s\n",
      "947:\tlearn: 0.3780604\ttotal: 6m 14s\tremaining: 20.6s\n",
      "948:\tlearn: 0.3780412\ttotal: 6m 15s\tremaining: 20.2s\n",
      "949:\tlearn: 0.3780207\ttotal: 6m 15s\tremaining: 19.8s\n",
      "950:\tlearn: 0.3779890\ttotal: 6m 15s\tremaining: 19.4s\n",
      "951:\tlearn: 0.3779698\ttotal: 6m 16s\tremaining: 19s\n",
      "952:\tlearn: 0.3779468\ttotal: 6m 16s\tremaining: 18.6s\n",
      "953:\tlearn: 0.3779264\ttotal: 6m 17s\tremaining: 18.2s\n",
      "954:\tlearn: 0.3779153\ttotal: 6m 17s\tremaining: 17.8s\n",
      "955:\tlearn: 0.3779007\ttotal: 6m 17s\tremaining: 17.4s\n",
      "956:\tlearn: 0.3778763\ttotal: 6m 18s\tremaining: 17s\n",
      "957:\tlearn: 0.3778642\ttotal: 6m 18s\tremaining: 16.6s\n",
      "958:\tlearn: 0.3778373\ttotal: 6m 19s\tremaining: 16.2s\n",
      "959:\tlearn: 0.3778189\ttotal: 6m 19s\tremaining: 15.8s\n",
      "960:\tlearn: 0.3778023\ttotal: 6m 19s\tremaining: 15.4s\n",
      "961:\tlearn: 0.3777771\ttotal: 6m 20s\tremaining: 15s\n",
      "962:\tlearn: 0.3777683\ttotal: 6m 20s\tremaining: 14.6s\n",
      "963:\tlearn: 0.3777444\ttotal: 6m 21s\tremaining: 14.2s\n",
      "964:\tlearn: 0.3777256\ttotal: 6m 21s\tremaining: 13.8s\n",
      "965:\tlearn: 0.3777158\ttotal: 6m 21s\tremaining: 13.4s\n",
      "966:\tlearn: 0.3777086\ttotal: 6m 22s\tremaining: 13s\n",
      "967:\tlearn: 0.3776869\ttotal: 6m 22s\tremaining: 12.7s\n",
      "968:\tlearn: 0.3776612\ttotal: 6m 23s\tremaining: 12.3s\n",
      "969:\tlearn: 0.3776425\ttotal: 6m 23s\tremaining: 11.9s\n",
      "970:\tlearn: 0.3776167\ttotal: 6m 24s\tremaining: 11.5s\n",
      "971:\tlearn: 0.3776038\ttotal: 6m 24s\tremaining: 11.1s\n",
      "972:\tlearn: 0.3775759\ttotal: 6m 24s\tremaining: 10.7s\n",
      "973:\tlearn: 0.3775578\ttotal: 6m 25s\tremaining: 10.3s\n",
      "974:\tlearn: 0.3775317\ttotal: 6m 25s\tremaining: 9.89s\n",
      "975:\tlearn: 0.3775131\ttotal: 6m 25s\tremaining: 9.49s\n",
      "976:\tlearn: 0.3774874\ttotal: 6m 26s\tremaining: 9.1s\n",
      "977:\tlearn: 0.3774755\ttotal: 6m 26s\tremaining: 8.7s\n",
      "978:\tlearn: 0.3774539\ttotal: 6m 27s\tremaining: 8.3s\n",
      "979:\tlearn: 0.3774290\ttotal: 6m 27s\tremaining: 7.91s\n",
      "980:\tlearn: 0.3774183\ttotal: 6m 27s\tremaining: 7.51s\n",
      "981:\tlearn: 0.3774050\ttotal: 6m 28s\tremaining: 7.12s\n",
      "982:\tlearn: 0.3773815\ttotal: 6m 28s\tremaining: 6.72s\n",
      "983:\tlearn: 0.3773643\ttotal: 6m 29s\tremaining: 6.33s\n",
      "984:\tlearn: 0.3773492\ttotal: 6m 29s\tremaining: 5.93s\n",
      "985:\tlearn: 0.3773334\ttotal: 6m 29s\tremaining: 5.54s\n",
      "986:\tlearn: 0.3773142\ttotal: 6m 30s\tremaining: 5.14s\n",
      "987:\tlearn: 0.3772938\ttotal: 6m 30s\tremaining: 4.74s\n",
      "988:\tlearn: 0.3772776\ttotal: 6m 30s\tremaining: 4.35s\n",
      "989:\tlearn: 0.3772529\ttotal: 6m 31s\tremaining: 3.95s\n",
      "990:\tlearn: 0.3772378\ttotal: 6m 31s\tremaining: 3.56s\n",
      "991:\tlearn: 0.3772179\ttotal: 6m 32s\tremaining: 3.16s\n",
      "992:\tlearn: 0.3771915\ttotal: 6m 32s\tremaining: 2.77s\n",
      "993:\tlearn: 0.3771676\ttotal: 6m 32s\tremaining: 2.37s\n",
      "994:\tlearn: 0.3771442\ttotal: 6m 33s\tremaining: 1.98s\n",
      "995:\tlearn: 0.3771173\ttotal: 6m 33s\tremaining: 1.58s\n",
      "996:\tlearn: 0.3771042\ttotal: 6m 34s\tremaining: 1.19s\n",
      "997:\tlearn: 0.3770719\ttotal: 6m 34s\tremaining: 791ms\n",
      "998:\tlearn: 0.3770530\ttotal: 6m 34s\tremaining: 395ms\n",
      "999:\tlearn: 0.3770184\ttotal: 6m 35s\tremaining: 0us\n",
      "Wall time: 6min 38s\n"
     ]
    }
   ],
   "source": [
    "%%time\n",
    "ctb2 = CatBoostClassifier(random_seed=17)\n",
    "ctb2.fit(all_train, y_train, cat_features=num_cat_feat);"
   ]
  },
  {
   "cell_type": "markdown",
   "metadata": {},
   "source": [
    "Сделаем прогноза для тестовой части и сохраним его в переменной preds_cat"
   ]
  },
  {
   "cell_type": "code",
   "execution_count": null,
   "metadata": {
    "collapsed": true
   },
   "outputs": [],
   "source": [
    "preds_cat = ctb2.predict(all_test)"
   ]
  },
  {
   "cell_type": "markdown",
   "metadata": {},
   "source": [
    "Приведём результат в необходимый для посылки на Kaggele вид и целочисленный формат int"
   ]
  },
  {
   "cell_type": "code",
   "execution_count": null,
   "metadata": {
    "collapsed": true
   },
   "outputs": [],
   "source": [
    "ans_cat = pd.DataFrame(np.concatenate([np.array(all_test[\"client_id\"]).reshape(-1, 1), preds_cat.reshape(-1, 1)], axis=1), columns=[\"client_id\", \"open_account_flg\"])\n",
    "ans_cat = ans_cat.astype(np.int64).astype(np.int64)\n",
    "ans_cat.to_csv(\"Submission_cat.csv\", index=None)"
   ]
  },
  {
   "cell_type": "code",
   "execution_count": null,
   "metadata": {
    "collapsed": true
   },
   "outputs": [],
   "source": [
    "preds_cat_proba = ctb2.predict_proba(X_test_copy)\n",
    "preds_cat_proba"
   ]
  },
  {
   "cell_type": "code",
   "execution_count": null,
   "metadata": {
    "collapsed": true
   },
   "outputs": [],
   "source": []
  },
  {
   "cell_type": "code",
   "execution_count": null,
   "metadata": {
    "collapsed": true
   },
   "outputs": [],
   "source": []
  },
  {
   "cell_type": "code",
   "execution_count": null,
   "metadata": {
    "collapsed": true
   },
   "outputs": [],
   "source": []
  },
  {
   "cell_type": "code",
   "execution_count": 11,
   "metadata": {
    "collapsed": false
   },
   "outputs": [
    {
     "data": {
      "text/plain": [
       "['job_position', 'marital_status', 'education', 'gender']"
      ]
     },
     "execution_count": 11,
     "metadata": {},
     "output_type": "execute_result"
    }
   ],
   "source": [
    "# в переменной \"cat_features\" сохраняем список имен признаков, имеющих строковый тип данных (str)\n",
    "cat_features = [i[0] for i in dict(X_train.dtypes).items() if 'obj' in str(i[1])]\n",
    "cat_features"
   ]
  },
  {
   "cell_type": "markdown",
   "metadata": {},
   "source": [
    "#### Convert categirical features to numerical and binarize them - Конвертируем категориальные признаки в числовые и приведём их к бинарной форме 0/1"
   ]
  },
  {
   "cell_type": "code",
   "execution_count": 12,
   "metadata": {
    "collapsed": true
   },
   "outputs": [],
   "source": [
    "# применяем метод Dummy-кодирования, существующий в арсенале Pandas, подробнее по ссылке:\n",
    "# https://pandas.pydata.org/pandas-docs/stable/generated/pandas.get_dummies.html\n",
    "X_train = pd.get_dummies(X_train, columns=cat_features)"
   ]
  },
  {
   "cell_type": "code",
   "execution_count": 13,
   "metadata": {
    "collapsed": false
   },
   "outputs": [
    {
     "data": {
      "text/plain": [
       "(119518, 37)"
      ]
     },
     "execution_count": 13,
     "metadata": {},
     "output_type": "execute_result"
    }
   ],
   "source": [
    "X_train.shape #смотрим на размерность тестовой выборки, теперь у нас 37 признаков после Dummy-кодирования \n",
    "# (было 14,из 4-х категориальных Dummy-кодирование создало 23 новых признака, каждый из которых показывает 0 или 1 уникального\n",
    "# значения в этих признаках, следовательно в 4 категориальных признаках было 23 уникальных значения и мы их закодировали)"
   ]
  },
  {
   "cell_type": "code",
   "execution_count": 52,
   "metadata": {
    "collapsed": false,
    "scrolled": true
   },
   "outputs": [
    {
     "data": {
      "text/html": [
       "<div>\n",
       "<style scoped>\n",
       "    .dataframe tbody tr th:only-of-type {\n",
       "        vertical-align: middle;\n",
       "    }\n",
       "\n",
       "    .dataframe tbody tr th {\n",
       "        vertical-align: top;\n",
       "    }\n",
       "\n",
       "    .dataframe thead th {\n",
       "        text-align: right;\n",
       "    }\n",
       "</style>\n",
       "<table border=\"1\" class=\"dataframe\">\n",
       "  <thead>\n",
       "    <tr style=\"text-align: right;\">\n",
       "      <th></th>\n",
       "      <th>job_position_ATP</th>\n",
       "      <th>job_position_BIS</th>\n",
       "      <th>job_position_BIU</th>\n",
       "      <th>job_position_DIR</th>\n",
       "      <th>job_position_HSK</th>\n",
       "      <th>job_position_INP</th>\n",
       "      <th>job_position_NOR</th>\n",
       "      <th>job_position_PNA</th>\n",
       "      <th>job_position_PNI</th>\n",
       "      <th>job_position_PNS</th>\n",
       "      <th>...</th>\n",
       "      <th>marital_status_MAR</th>\n",
       "      <th>marital_status_UNM</th>\n",
       "      <th>marital_status_WID</th>\n",
       "      <th>education_ACD</th>\n",
       "      <th>education_GRD</th>\n",
       "      <th>education_PGR</th>\n",
       "      <th>education_SCH</th>\n",
       "      <th>education_UGR</th>\n",
       "      <th>gender_F</th>\n",
       "      <th>gender_M</th>\n",
       "    </tr>\n",
       "  </thead>\n",
       "  <tbody>\n",
       "    <tr>\n",
       "      <th>0</th>\n",
       "      <td>0</td>\n",
       "      <td>0</td>\n",
       "      <td>0</td>\n",
       "      <td>0</td>\n",
       "      <td>0</td>\n",
       "      <td>0</td>\n",
       "      <td>0</td>\n",
       "      <td>0</td>\n",
       "      <td>0</td>\n",
       "      <td>0</td>\n",
       "      <td>...</td>\n",
       "      <td>0</td>\n",
       "      <td>1</td>\n",
       "      <td>0</td>\n",
       "      <td>0</td>\n",
       "      <td>0</td>\n",
       "      <td>0</td>\n",
       "      <td>1</td>\n",
       "      <td>0</td>\n",
       "      <td>0</td>\n",
       "      <td>1</td>\n",
       "    </tr>\n",
       "    <tr>\n",
       "      <th>1</th>\n",
       "      <td>0</td>\n",
       "      <td>0</td>\n",
       "      <td>0</td>\n",
       "      <td>0</td>\n",
       "      <td>0</td>\n",
       "      <td>0</td>\n",
       "      <td>0</td>\n",
       "      <td>0</td>\n",
       "      <td>0</td>\n",
       "      <td>0</td>\n",
       "      <td>...</td>\n",
       "      <td>1</td>\n",
       "      <td>0</td>\n",
       "      <td>0</td>\n",
       "      <td>0</td>\n",
       "      <td>0</td>\n",
       "      <td>0</td>\n",
       "      <td>1</td>\n",
       "      <td>0</td>\n",
       "      <td>1</td>\n",
       "      <td>0</td>\n",
       "    </tr>\n",
       "    <tr>\n",
       "      <th>2</th>\n",
       "      <td>0</td>\n",
       "      <td>0</td>\n",
       "      <td>0</td>\n",
       "      <td>0</td>\n",
       "      <td>0</td>\n",
       "      <td>0</td>\n",
       "      <td>0</td>\n",
       "      <td>0</td>\n",
       "      <td>0</td>\n",
       "      <td>0</td>\n",
       "      <td>...</td>\n",
       "      <td>0</td>\n",
       "      <td>1</td>\n",
       "      <td>0</td>\n",
       "      <td>0</td>\n",
       "      <td>1</td>\n",
       "      <td>0</td>\n",
       "      <td>0</td>\n",
       "      <td>0</td>\n",
       "      <td>1</td>\n",
       "      <td>0</td>\n",
       "    </tr>\n",
       "    <tr>\n",
       "      <th>3</th>\n",
       "      <td>0</td>\n",
       "      <td>0</td>\n",
       "      <td>0</td>\n",
       "      <td>0</td>\n",
       "      <td>0</td>\n",
       "      <td>0</td>\n",
       "      <td>0</td>\n",
       "      <td>0</td>\n",
       "      <td>0</td>\n",
       "      <td>0</td>\n",
       "      <td>...</td>\n",
       "      <td>1</td>\n",
       "      <td>0</td>\n",
       "      <td>0</td>\n",
       "      <td>0</td>\n",
       "      <td>0</td>\n",
       "      <td>0</td>\n",
       "      <td>1</td>\n",
       "      <td>0</td>\n",
       "      <td>0</td>\n",
       "      <td>1</td>\n",
       "    </tr>\n",
       "  </tbody>\n",
       "</table>\n",
       "<p>4 rows × 28 columns</p>\n",
       "</div>"
      ],
      "text/plain": [
       "   job_position_ATP  job_position_BIS  job_position_BIU  job_position_DIR  \\\n",
       "0                 0                 0                 0                 0   \n",
       "1                 0                 0                 0                 0   \n",
       "2                 0                 0                 0                 0   \n",
       "3                 0                 0                 0                 0   \n",
       "\n",
       "   job_position_HSK  job_position_INP  job_position_NOR  job_position_PNA  \\\n",
       "0                 0                 0                 0                 0   \n",
       "1                 0                 0                 0                 0   \n",
       "2                 0                 0                 0                 0   \n",
       "3                 0                 0                 0                 0   \n",
       "\n",
       "   job_position_PNI  job_position_PNS    ...     marital_status_MAR  \\\n",
       "0                 0                 0    ...                      0   \n",
       "1                 0                 0    ...                      1   \n",
       "2                 0                 0    ...                      0   \n",
       "3                 0                 0    ...                      1   \n",
       "\n",
       "   marital_status_UNM  marital_status_WID  education_ACD  education_GRD  \\\n",
       "0                   1                   0              0              0   \n",
       "1                   0                   0              0              0   \n",
       "2                   1                   0              0              1   \n",
       "3                   0                   0              0              0   \n",
       "\n",
       "   education_PGR  education_SCH  education_UGR  gender_F  gender_M  \n",
       "0              0              1              0         0         1  \n",
       "1              0              1              0         1         0  \n",
       "2              0              0              0         1         0  \n",
       "3              0              1              0         0         1  \n",
       "\n",
       "[4 rows x 28 columns]"
      ]
     },
     "execution_count": 52,
     "metadata": {},
     "output_type": "execute_result"
    }
   ],
   "source": [
    "X_train.iloc[:4,9:] #просматриваем первых 4 строки и столбцы с 9 по последний"
   ]
  },
  {
   "cell_type": "code",
   "execution_count": 39,
   "metadata": {
    "collapsed": false
   },
   "outputs": [
    {
     "data": {
      "text/html": [
       "<div>\n",
       "<style scoped>\n",
       "    .dataframe tbody tr th:only-of-type {\n",
       "        vertical-align: middle;\n",
       "    }\n",
       "\n",
       "    .dataframe tbody tr th {\n",
       "        vertical-align: top;\n",
       "    }\n",
       "\n",
       "    .dataframe thead th {\n",
       "        text-align: right;\n",
       "    }\n",
       "</style>\n",
       "<table border=\"1\" class=\"dataframe\">\n",
       "  <thead>\n",
       "    <tr style=\"text-align: right;\">\n",
       "      <th></th>\n",
       "      <th>client_id</th>\n",
       "      <th>age</th>\n",
       "      <th>credit_sum</th>\n",
       "      <th>credit_month</th>\n",
       "      <th>tariff_id</th>\n",
       "      <th>score_shk</th>\n",
       "      <th>monthly_income</th>\n",
       "      <th>credit_count</th>\n",
       "      <th>overdue_credit_count</th>\n",
       "      <th>job_position_ATP</th>\n",
       "      <th>...</th>\n",
       "      <th>marital_status_MAR</th>\n",
       "      <th>marital_status_UNM</th>\n",
       "      <th>marital_status_WID</th>\n",
       "      <th>education_ACD</th>\n",
       "      <th>education_GRD</th>\n",
       "      <th>education_PGR</th>\n",
       "      <th>education_SCH</th>\n",
       "      <th>education_UGR</th>\n",
       "      <th>gender_F</th>\n",
       "      <th>gender_M</th>\n",
       "    </tr>\n",
       "  </thead>\n",
       "  <tbody>\n",
       "    <tr>\n",
       "      <th>0</th>\n",
       "      <td>1</td>\n",
       "      <td>25</td>\n",
       "      <td>26389.0</td>\n",
       "      <td>10</td>\n",
       "      <td>1.32</td>\n",
       "      <td>0.584105</td>\n",
       "      <td>35000.0</td>\n",
       "      <td>2.0</td>\n",
       "      <td>0.0</td>\n",
       "      <td>0</td>\n",
       "      <td>...</td>\n",
       "      <td>0</td>\n",
       "      <td>1</td>\n",
       "      <td>0</td>\n",
       "      <td>0</td>\n",
       "      <td>0</td>\n",
       "      <td>0</td>\n",
       "      <td>1</td>\n",
       "      <td>0</td>\n",
       "      <td>0</td>\n",
       "      <td>1</td>\n",
       "    </tr>\n",
       "    <tr>\n",
       "      <th>1</th>\n",
       "      <td>2</td>\n",
       "      <td>37</td>\n",
       "      <td>19588.0</td>\n",
       "      <td>12</td>\n",
       "      <td>1.43</td>\n",
       "      <td>0.718935</td>\n",
       "      <td>15000.0</td>\n",
       "      <td>0.0</td>\n",
       "      <td>0.0</td>\n",
       "      <td>0</td>\n",
       "      <td>...</td>\n",
       "      <td>1</td>\n",
       "      <td>0</td>\n",
       "      <td>0</td>\n",
       "      <td>0</td>\n",
       "      <td>0</td>\n",
       "      <td>0</td>\n",
       "      <td>1</td>\n",
       "      <td>0</td>\n",
       "      <td>1</td>\n",
       "      <td>0</td>\n",
       "    </tr>\n",
       "    <tr>\n",
       "      <th>2</th>\n",
       "      <td>3</td>\n",
       "      <td>28</td>\n",
       "      <td>53669.0</td>\n",
       "      <td>18</td>\n",
       "      <td>1.10</td>\n",
       "      <td>0.586015</td>\n",
       "      <td>70000.0</td>\n",
       "      <td>4.0</td>\n",
       "      <td>0.0</td>\n",
       "      <td>0</td>\n",
       "      <td>...</td>\n",
       "      <td>0</td>\n",
       "      <td>1</td>\n",
       "      <td>0</td>\n",
       "      <td>0</td>\n",
       "      <td>1</td>\n",
       "      <td>0</td>\n",
       "      <td>0</td>\n",
       "      <td>0</td>\n",
       "      <td>1</td>\n",
       "      <td>0</td>\n",
       "    </tr>\n",
       "    <tr>\n",
       "      <th>3</th>\n",
       "      <td>4</td>\n",
       "      <td>34</td>\n",
       "      <td>26349.0</td>\n",
       "      <td>10</td>\n",
       "      <td>1.43</td>\n",
       "      <td>0.655703</td>\n",
       "      <td>42500.0</td>\n",
       "      <td>4.0</td>\n",
       "      <td>0.0</td>\n",
       "      <td>0</td>\n",
       "      <td>...</td>\n",
       "      <td>1</td>\n",
       "      <td>0</td>\n",
       "      <td>0</td>\n",
       "      <td>0</td>\n",
       "      <td>0</td>\n",
       "      <td>0</td>\n",
       "      <td>1</td>\n",
       "      <td>0</td>\n",
       "      <td>0</td>\n",
       "      <td>1</td>\n",
       "    </tr>\n",
       "    <tr>\n",
       "      <th>4</th>\n",
       "      <td>5</td>\n",
       "      <td>43</td>\n",
       "      <td>11589.0</td>\n",
       "      <td>10</td>\n",
       "      <td>1.10</td>\n",
       "      <td>0.271893</td>\n",
       "      <td>20000.0</td>\n",
       "      <td>3.0</td>\n",
       "      <td>0.0</td>\n",
       "      <td>0</td>\n",
       "      <td>...</td>\n",
       "      <td>1</td>\n",
       "      <td>0</td>\n",
       "      <td>0</td>\n",
       "      <td>0</td>\n",
       "      <td>1</td>\n",
       "      <td>0</td>\n",
       "      <td>0</td>\n",
       "      <td>0</td>\n",
       "      <td>1</td>\n",
       "      <td>0</td>\n",
       "    </tr>\n",
       "  </tbody>\n",
       "</table>\n",
       "<p>5 rows × 37 columns</p>\n",
       "</div>"
      ],
      "text/plain": [
       "   client_id  age  credit_sum  credit_month  tariff_id  score_shk  \\\n",
       "0          1   25     26389.0            10       1.32   0.584105   \n",
       "1          2   37     19588.0            12       1.43   0.718935   \n",
       "2          3   28     53669.0            18       1.10   0.586015   \n",
       "3          4   34     26349.0            10       1.43   0.655703   \n",
       "4          5   43     11589.0            10       1.10   0.271893   \n",
       "\n",
       "   monthly_income  credit_count  overdue_credit_count  job_position_ATP  \\\n",
       "0         35000.0           2.0                   0.0                 0   \n",
       "1         15000.0           0.0                   0.0                 0   \n",
       "2         70000.0           4.0                   0.0                 0   \n",
       "3         42500.0           4.0                   0.0                 0   \n",
       "4         20000.0           3.0                   0.0                 0   \n",
       "\n",
       "     ...     marital_status_MAR  marital_status_UNM  marital_status_WID  \\\n",
       "0    ...                      0                   1                   0   \n",
       "1    ...                      1                   0                   0   \n",
       "2    ...                      0                   1                   0   \n",
       "3    ...                      1                   0                   0   \n",
       "4    ...                      1                   0                   0   \n",
       "\n",
       "   education_ACD  education_GRD  education_PGR  education_SCH  education_UGR  \\\n",
       "0              0              0              0              1              0   \n",
       "1              0              0              0              1              0   \n",
       "2              0              1              0              0              0   \n",
       "3              0              0              0              1              0   \n",
       "4              0              1              0              0              0   \n",
       "\n",
       "   gender_F  gender_M  \n",
       "0         0         1  \n",
       "1         1         0  \n",
       "2         1         0  \n",
       "3         0         1  \n",
       "4         1         0  \n",
       "\n",
       "[5 rows x 37 columns]"
      ]
     },
     "execution_count": 39,
     "metadata": {},
     "output_type": "execute_result"
    }
   ],
   "source": [
    "X_train.head()"
   ]
  },
  {
   "cell_type": "markdown",
   "metadata": {},
   "source": [
    "## 3. Build the model - Обучаем модель"
   ]
  },
  {
   "cell_type": "code",
   "execution_count": 14,
   "metadata": {
    "collapsed": false
   },
   "outputs": [
    {
     "name": "stderr",
     "output_type": "stream",
     "text": [
      "C:\\Users\\odnoperov\\AppData\\Local\\Continuum\\Anaconda3\\lib\\site-packages\\sklearn\\ensemble\\weight_boosting.py:29: DeprecationWarning: numpy.core.umath_tests is an internal NumPy module and should not be imported. It will be removed in a future NumPy release.\n",
      "  from numpy.core.umath_tests import inner1d\n"
     ]
    },
    {
     "ename": "ImportError",
     "evalue": "No module named 'xgboost'",
     "output_type": "error",
     "traceback": [
      "\u001b[1;31m---------------------------------------------------------------------------\u001b[0m",
      "\u001b[1;31mImportError\u001b[0m                               Traceback (most recent call last)",
      "\u001b[1;32m<ipython-input-14-0d323245049a>\u001b[0m in \u001b[0;36m<module>\u001b[1;34m()\u001b[0m\n\u001b[0;32m      1\u001b[0m \u001b[1;32mfrom\u001b[0m \u001b[0msklearn\u001b[0m\u001b[1;33m.\u001b[0m\u001b[0mensemble\u001b[0m \u001b[1;32mimport\u001b[0m \u001b[0mRandomForestClassifier\u001b[0m\u001b[1;33m,\u001b[0m \u001b[0mGradientBoostingClassifier\u001b[0m\u001b[1;33m\u001b[0m\u001b[0m\n\u001b[1;32m----> 2\u001b[1;33m \u001b[1;32mimport\u001b[0m \u001b[0mxgboost\u001b[0m \u001b[1;32mas\u001b[0m \u001b[0mxgb\u001b[0m \u001b[1;31m#импортируем эффективную библиотеку градиентного бустинга xgboost\u001b[0m\u001b[1;33m\u001b[0m\u001b[0m\n\u001b[0m\u001b[0;32m      3\u001b[0m \u001b[1;32mfrom\u001b[0m \u001b[0msklearn\u001b[0m\u001b[1;33m.\u001b[0m\u001b[0mmodel_selection\u001b[0m \u001b[1;32mimport\u001b[0m \u001b[0mcross_val_score\u001b[0m \u001b[1;31m#импортируем функцию оценки модели методом скользящего контроля(cross-валидации)\u001b[0m\u001b[1;33m\u001b[0m\u001b[0m\n\u001b[0;32m      4\u001b[0m \u001b[1;32mfrom\u001b[0m \u001b[0msklearn\u001b[0m\u001b[1;33m.\u001b[0m\u001b[0mmetrics\u001b[0m \u001b[1;32mimport\u001b[0m \u001b[0mf1_score\u001b[0m\u001b[1;33m,\u001b[0m \u001b[0mmake_scorer\u001b[0m \u001b[1;31m#импортируем метрики оценки\u001b[0m\u001b[1;33m\u001b[0m\u001b[0m\n\u001b[0;32m      5\u001b[0m \u001b[1;32mfrom\u001b[0m \u001b[0msklearn\u001b[0m\u001b[1;33m.\u001b[0m\u001b[0mgrid_search\u001b[0m \u001b[1;32mimport\u001b[0m \u001b[0mGridSearchCV\u001b[0m \u001b[1;31m#импортируем функцию поиска параметров с лучшим показателем методом полного перебора\u001b[0m\u001b[1;33m\u001b[0m\u001b[0m\n",
      "\u001b[1;31mImportError\u001b[0m: No module named 'xgboost'"
     ]
    }
   ],
   "source": [
    "from sklearn.ensemble import RandomForestClassifier, GradientBoostingClassifier\n",
    "import xgboost as xgb #импортируем эффективную библиотеку градиентного бустинга xgboost\n",
    "from sklearn.model_selection import cross_val_score #импортируем функцию оценки модели методом скользящего контроля(cross-валидации)\n",
    "from sklearn.metrics import f1_score, make_scorer #импортируем метрики оценки\n",
    "from sklearn.grid_search import GridSearchCV #импортируем функцию поиска параметров с лучшим показателем методом полного перебора"
   ]
  },
  {
   "cell_type": "markdown",
   "metadata": {},
   "source": [
    "На каггле наши ответы будут оцениваться метрикой Mean F1-Score. Это соответствует метрике F1 из sklearn с параметром average=\"weighted\": http://scikit-learn.org/stable/modules/generated/sklearn.metrics.f1_score.html\n",
    "\n",
    "Так как в GridSearchCV мы не можем передавать параметры метрики, то нужно сделать свою функцию метрики. Это легко делается с помощью make_scorer: в нее надо передать функцию метрики из sklearn и параметры, с которыми мы хотим ее использовать:"
   ]
  },
  {
   "cell_type": "code",
   "execution_count": 286,
   "metadata": {
    "collapsed": true
   },
   "outputs": [],
   "source": [
    "mean_f1_metric = make_scorer(f1_score, average='weighted')"
   ]
  },
  {
   "cell_type": "markdown",
   "metadata": {},
   "source": [
    "Теперь мы можем использовать нашу функцию mean_f1_metric для подсчета метрики Mean F1-Score и передавать ее в GridSearchCV или cross-val-score =)"
   ]
  },
  {
   "cell_type": "code",
   "execution_count": 290,
   "metadata": {
    "collapsed": false,
    "scrolled": true
   },
   "outputs": [
    {
     "name": "stdout",
     "output_type": "stream",
     "text": [
      "Fitting 5 folds for each of 9 candidates, totalling 45 fits\n"
     ]
    },
    {
     "name": "stderr",
     "output_type": "stream",
     "text": [
      "[Parallel(n_jobs=1)]: Done  45 out of  45 | elapsed:  1.6min finished\n"
     ]
    },
    {
     "data": {
      "text/plain": [
       "({'max_depth': None, 'n_estimators': 50}, 0.7633812268545622)"
      ]
     },
     "execution_count": 290,
     "metadata": {},
     "output_type": "execute_result"
    }
   ],
   "source": [
    "rf = RandomForestClassifier()\n",
    "\n",
    "params = {\n",
    "    'n_estimators' : [1, 10, 50],\n",
    "    'max_depth' : [None, 7, 9]\n",
    "}\n",
    "\n",
    "gsv_rf = GridSearchCV(rf, param_grid=params, scoring=mean_f1_metric, cv=5, verbose=1)\n",
    "gsv_rf.fit(X_train, y_train)\n",
    "gsv_rf.best_params_, gsv_rf.best_score_"
   ]
  },
  {
   "cell_type": "markdown",
   "metadata": {},
   "source": [
    "Натренируем на всех примерах:"
   ]
  },
  {
   "cell_type": "code",
   "execution_count": 291,
   "metadata": {
    "collapsed": false
   },
   "outputs": [
    {
     "data": {
      "text/plain": [
       "RandomForestClassifier(bootstrap=True, class_weight=None, criterion='gini',\n",
       "            max_depth=None, max_features='auto', max_leaf_nodes=None,\n",
       "            min_impurity_decrease=0.0, min_impurity_split=None,\n",
       "            min_samples_leaf=1, min_samples_split=2,\n",
       "            min_weight_fraction_leaf=0.0, n_estimators=50, n_jobs=1,\n",
       "            oob_score=False, random_state=None, verbose=0,\n",
       "            warm_start=False)"
      ]
     },
     "execution_count": 291,
     "metadata": {},
     "output_type": "execute_result"
    }
   ],
   "source": [
    "rf = RandomForestClassifier(n_estimators=50)\n",
    "rf.fit(X_train, y_train)"
   ]
  },
  {
   "cell_type": "markdown",
   "metadata": {},
   "source": [
    "## 4. Process test data"
   ]
  },
  {
   "cell_type": "code",
   "execution_count": 292,
   "metadata": {
    "collapsed": false
   },
   "outputs": [
    {
     "data": {
      "text/html": [
       "<div>\n",
       "<style scoped>\n",
       "    .dataframe tbody tr th:only-of-type {\n",
       "        vertical-align: middle;\n",
       "    }\n",
       "\n",
       "    .dataframe tbody tr th {\n",
       "        vertical-align: top;\n",
       "    }\n",
       "\n",
       "    .dataframe thead th {\n",
       "        text-align: right;\n",
       "    }\n",
       "</style>\n",
       "<table border=\"1\" class=\"dataframe\">\n",
       "  <thead>\n",
       "    <tr style=\"text-align: right;\">\n",
       "      <th></th>\n",
       "      <th>client_id</th>\n",
       "      <th>gender</th>\n",
       "      <th>age</th>\n",
       "      <th>marital_status</th>\n",
       "      <th>job_position</th>\n",
       "      <th>credit_sum</th>\n",
       "      <th>credit_month</th>\n",
       "      <th>tariff_id</th>\n",
       "      <th>score_shk</th>\n",
       "      <th>education</th>\n",
       "      <th>living_region</th>\n",
       "      <th>monthly_income</th>\n",
       "      <th>credit_count</th>\n",
       "      <th>overdue_credit_count</th>\n",
       "    </tr>\n",
       "  </thead>\n",
       "  <tbody>\n",
       "    <tr>\n",
       "      <th>0</th>\n",
       "      <td>119519</td>\n",
       "      <td>F</td>\n",
       "      <td>24</td>\n",
       "      <td>MAR</td>\n",
       "      <td>SPC</td>\n",
       "      <td>28429.0</td>\n",
       "      <td>18</td>\n",
       "      <td>1.10</td>\n",
       "      <td>0.593836</td>\n",
       "      <td>GRD</td>\n",
       "      <td>ОБЛ ИРКУТСКАЯ</td>\n",
       "      <td>33000.0</td>\n",
       "      <td>3.0</td>\n",
       "      <td>0.0</td>\n",
       "    </tr>\n",
       "    <tr>\n",
       "      <th>1</th>\n",
       "      <td>119520</td>\n",
       "      <td>M</td>\n",
       "      <td>25</td>\n",
       "      <td>UNM</td>\n",
       "      <td>SPC</td>\n",
       "      <td>15997.0</td>\n",
       "      <td>10</td>\n",
       "      <td>1.60</td>\n",
       "      <td>0.615015</td>\n",
       "      <td>SCH</td>\n",
       "      <td>УЛЬЯНОВСКАЯ ОБЛ</td>\n",
       "      <td>35000.0</td>\n",
       "      <td>2.0</td>\n",
       "      <td>0.0</td>\n",
       "    </tr>\n",
       "    <tr>\n",
       "      <th>2</th>\n",
       "      <td>119521</td>\n",
       "      <td>M</td>\n",
       "      <td>25</td>\n",
       "      <td>UNM</td>\n",
       "      <td>SPC</td>\n",
       "      <td>11043.0</td>\n",
       "      <td>10</td>\n",
       "      <td>1.16</td>\n",
       "      <td>0.666758</td>\n",
       "      <td>SCH</td>\n",
       "      <td>РЕСП БАШКОРТОСТАН</td>\n",
       "      <td>25000.0</td>\n",
       "      <td>3.0</td>\n",
       "      <td>0.0</td>\n",
       "    </tr>\n",
       "    <tr>\n",
       "      <th>3</th>\n",
       "      <td>119522</td>\n",
       "      <td>F</td>\n",
       "      <td>34</td>\n",
       "      <td>MAR</td>\n",
       "      <td>SPC</td>\n",
       "      <td>14617.0</td>\n",
       "      <td>10</td>\n",
       "      <td>1.40</td>\n",
       "      <td>0.447745</td>\n",
       "      <td>GRD</td>\n",
       "      <td>ПЕНЗЕНСКАЯ ОБЛ</td>\n",
       "      <td>15000.0</td>\n",
       "      <td>2.0</td>\n",
       "      <td>0.0</td>\n",
       "    </tr>\n",
       "    <tr>\n",
       "      <th>4</th>\n",
       "      <td>119523</td>\n",
       "      <td>M</td>\n",
       "      <td>33</td>\n",
       "      <td>MAR</td>\n",
       "      <td>SPC</td>\n",
       "      <td>38147.0</td>\n",
       "      <td>12</td>\n",
       "      <td>1.60</td>\n",
       "      <td>0.706974</td>\n",
       "      <td>UGR</td>\n",
       "      <td>ОБЛ МОСКОВСКАЯ</td>\n",
       "      <td>55000.0</td>\n",
       "      <td>1.0</td>\n",
       "      <td>0.0</td>\n",
       "    </tr>\n",
       "  </tbody>\n",
       "</table>\n",
       "</div>"
      ],
      "text/plain": [
       "   client_id gender  age marital_status job_position  credit_sum  \\\n",
       "0     119519      F   24            MAR          SPC     28429.0   \n",
       "1     119520      M   25            UNM          SPC     15997.0   \n",
       "2     119521      M   25            UNM          SPC     11043.0   \n",
       "3     119522      F   34            MAR          SPC     14617.0   \n",
       "4     119523      M   33            MAR          SPC     38147.0   \n",
       "\n",
       "   credit_month  tariff_id  score_shk education      living_region  \\\n",
       "0            18       1.10   0.593836       GRD      ОБЛ ИРКУТСКАЯ   \n",
       "1            10       1.60   0.615015       SCH    УЛЬЯНОВСКАЯ ОБЛ   \n",
       "2            10       1.16   0.666758       SCH  РЕСП БАШКОРТОСТАН   \n",
       "3            10       1.40   0.447745       GRD     ПЕНЗЕНСКАЯ ОБЛ   \n",
       "4            12       1.60   0.706974       UGR     ОБЛ МОСКОВСКАЯ   \n",
       "\n",
       "   monthly_income  credit_count  overdue_credit_count  \n",
       "0         33000.0           3.0                   0.0  \n",
       "1         35000.0           2.0                   0.0  \n",
       "2         25000.0           3.0                   0.0  \n",
       "3         15000.0           2.0                   0.0  \n",
       "4         55000.0           1.0                   0.0  "
      ]
     },
     "execution_count": 292,
     "metadata": {},
     "output_type": "execute_result"
    }
   ],
   "source": [
    "X_test.head()"
   ]
  },
  {
   "cell_type": "markdown",
   "metadata": {},
   "source": [
    "Нам нужно предобработать тестовые данные точно так же, как тренировочные, чтобы можно было засовывать их в модели, обученные на тренировочных данных. "
   ]
  },
  {
   "cell_type": "code",
   "execution_count": 293,
   "metadata": {
    "collapsed": false
   },
   "outputs": [
    {
     "data": {
      "text/plain": [
       "client_id               False\n",
       "gender                  False\n",
       "age                     False\n",
       "marital_status          False\n",
       "job_position            False\n",
       "credit_sum              False\n",
       "credit_month            False\n",
       "tariff_id               False\n",
       "score_shk               False\n",
       "education               False\n",
       "living_region            True\n",
       "monthly_income           True\n",
       "credit_count             True\n",
       "overdue_credit_count     True\n",
       "dtype: bool"
      ]
     },
     "execution_count": 293,
     "metadata": {},
     "output_type": "execute_result"
    }
   ],
   "source": [
    "X_test.isna().any()"
   ]
  },
  {
   "cell_type": "code",
   "execution_count": 294,
   "metadata": {
    "collapsed": true
   },
   "outputs": [],
   "source": [
    "X_test.drop(\"living_region\", axis=1, inplace=True)"
   ]
  },
  {
   "cell_type": "code",
   "execution_count": 295,
   "metadata": {
    "collapsed": true
   },
   "outputs": [],
   "source": [
    "X_test[\"monthly_income\"].fillna(X_train[\"monthly_income\"].median(), inplace=True)\n",
    "X_test[\"credit_count\"].fillna(1., inplace=True)\n",
    "X_test[\"overdue_credit_count\"].fillna(0., inplace=True)"
   ]
  },
  {
   "cell_type": "code",
   "execution_count": 296,
   "metadata": {
    "collapsed": true
   },
   "outputs": [],
   "source": [
    "X_test = pd.get_dummies(X_test, columns=cat_features)"
   ]
  },
  {
   "cell_type": "code",
   "execution_count": 297,
   "metadata": {
    "collapsed": false
   },
   "outputs": [
    {
     "data": {
      "text/html": [
       "<div>\n",
       "<style scoped>\n",
       "    .dataframe tbody tr th:only-of-type {\n",
       "        vertical-align: middle;\n",
       "    }\n",
       "\n",
       "    .dataframe tbody tr th {\n",
       "        vertical-align: top;\n",
       "    }\n",
       "\n",
       "    .dataframe thead th {\n",
       "        text-align: right;\n",
       "    }\n",
       "</style>\n",
       "<table border=\"1\" class=\"dataframe\">\n",
       "  <thead>\n",
       "    <tr style=\"text-align: right;\">\n",
       "      <th></th>\n",
       "      <th>client_id</th>\n",
       "      <th>age</th>\n",
       "      <th>credit_sum</th>\n",
       "      <th>credit_month</th>\n",
       "      <th>tariff_id</th>\n",
       "      <th>score_shk</th>\n",
       "      <th>monthly_income</th>\n",
       "      <th>credit_count</th>\n",
       "      <th>overdue_credit_count</th>\n",
       "      <th>gender_F</th>\n",
       "      <th>...</th>\n",
       "      <th>job_position_SPC</th>\n",
       "      <th>job_position_UMN</th>\n",
       "      <th>job_position_WOI</th>\n",
       "      <th>job_position_WRK</th>\n",
       "      <th>job_position_WRP</th>\n",
       "      <th>education_ACD</th>\n",
       "      <th>education_GRD</th>\n",
       "      <th>education_PGR</th>\n",
       "      <th>education_SCH</th>\n",
       "      <th>education_UGR</th>\n",
       "    </tr>\n",
       "  </thead>\n",
       "  <tbody>\n",
       "    <tr>\n",
       "      <th>0</th>\n",
       "      <td>119519</td>\n",
       "      <td>24</td>\n",
       "      <td>28429.0</td>\n",
       "      <td>18</td>\n",
       "      <td>1.10</td>\n",
       "      <td>0.593836</td>\n",
       "      <td>33000.0</td>\n",
       "      <td>3.0</td>\n",
       "      <td>0.0</td>\n",
       "      <td>1</td>\n",
       "      <td>...</td>\n",
       "      <td>1</td>\n",
       "      <td>0</td>\n",
       "      <td>0</td>\n",
       "      <td>0</td>\n",
       "      <td>0</td>\n",
       "      <td>0</td>\n",
       "      <td>1</td>\n",
       "      <td>0</td>\n",
       "      <td>0</td>\n",
       "      <td>0</td>\n",
       "    </tr>\n",
       "    <tr>\n",
       "      <th>1</th>\n",
       "      <td>119520</td>\n",
       "      <td>25</td>\n",
       "      <td>15997.0</td>\n",
       "      <td>10</td>\n",
       "      <td>1.60</td>\n",
       "      <td>0.615015</td>\n",
       "      <td>35000.0</td>\n",
       "      <td>2.0</td>\n",
       "      <td>0.0</td>\n",
       "      <td>0</td>\n",
       "      <td>...</td>\n",
       "      <td>1</td>\n",
       "      <td>0</td>\n",
       "      <td>0</td>\n",
       "      <td>0</td>\n",
       "      <td>0</td>\n",
       "      <td>0</td>\n",
       "      <td>0</td>\n",
       "      <td>0</td>\n",
       "      <td>1</td>\n",
       "      <td>0</td>\n",
       "    </tr>\n",
       "    <tr>\n",
       "      <th>2</th>\n",
       "      <td>119521</td>\n",
       "      <td>25</td>\n",
       "      <td>11043.0</td>\n",
       "      <td>10</td>\n",
       "      <td>1.16</td>\n",
       "      <td>0.666758</td>\n",
       "      <td>25000.0</td>\n",
       "      <td>3.0</td>\n",
       "      <td>0.0</td>\n",
       "      <td>0</td>\n",
       "      <td>...</td>\n",
       "      <td>1</td>\n",
       "      <td>0</td>\n",
       "      <td>0</td>\n",
       "      <td>0</td>\n",
       "      <td>0</td>\n",
       "      <td>0</td>\n",
       "      <td>0</td>\n",
       "      <td>0</td>\n",
       "      <td>1</td>\n",
       "      <td>0</td>\n",
       "    </tr>\n",
       "    <tr>\n",
       "      <th>3</th>\n",
       "      <td>119522</td>\n",
       "      <td>34</td>\n",
       "      <td>14617.0</td>\n",
       "      <td>10</td>\n",
       "      <td>1.40</td>\n",
       "      <td>0.447745</td>\n",
       "      <td>15000.0</td>\n",
       "      <td>2.0</td>\n",
       "      <td>0.0</td>\n",
       "      <td>1</td>\n",
       "      <td>...</td>\n",
       "      <td>1</td>\n",
       "      <td>0</td>\n",
       "      <td>0</td>\n",
       "      <td>0</td>\n",
       "      <td>0</td>\n",
       "      <td>0</td>\n",
       "      <td>1</td>\n",
       "      <td>0</td>\n",
       "      <td>0</td>\n",
       "      <td>0</td>\n",
       "    </tr>\n",
       "    <tr>\n",
       "      <th>4</th>\n",
       "      <td>119523</td>\n",
       "      <td>33</td>\n",
       "      <td>38147.0</td>\n",
       "      <td>12</td>\n",
       "      <td>1.60</td>\n",
       "      <td>0.706974</td>\n",
       "      <td>55000.0</td>\n",
       "      <td>1.0</td>\n",
       "      <td>0.0</td>\n",
       "      <td>0</td>\n",
       "      <td>...</td>\n",
       "      <td>1</td>\n",
       "      <td>0</td>\n",
       "      <td>0</td>\n",
       "      <td>0</td>\n",
       "      <td>0</td>\n",
       "      <td>0</td>\n",
       "      <td>0</td>\n",
       "      <td>0</td>\n",
       "      <td>0</td>\n",
       "      <td>1</td>\n",
       "    </tr>\n",
       "  </tbody>\n",
       "</table>\n",
       "<p>5 rows × 37 columns</p>\n",
       "</div>"
      ],
      "text/plain": [
       "   client_id  age  credit_sum  credit_month  tariff_id  score_shk  \\\n",
       "0     119519   24     28429.0            18       1.10   0.593836   \n",
       "1     119520   25     15997.0            10       1.60   0.615015   \n",
       "2     119521   25     11043.0            10       1.16   0.666758   \n",
       "3     119522   34     14617.0            10       1.40   0.447745   \n",
       "4     119523   33     38147.0            12       1.60   0.706974   \n",
       "\n",
       "   monthly_income  credit_count  overdue_credit_count  gender_F  \\\n",
       "0         33000.0           3.0                   0.0         1   \n",
       "1         35000.0           2.0                   0.0         0   \n",
       "2         25000.0           3.0                   0.0         0   \n",
       "3         15000.0           2.0                   0.0         1   \n",
       "4         55000.0           1.0                   0.0         0   \n",
       "\n",
       "       ...        job_position_SPC  job_position_UMN  job_position_WOI  \\\n",
       "0      ...                       1                 0                 0   \n",
       "1      ...                       1                 0                 0   \n",
       "2      ...                       1                 0                 0   \n",
       "3      ...                       1                 0                 0   \n",
       "4      ...                       1                 0                 0   \n",
       "\n",
       "   job_position_WRK  job_position_WRP  education_ACD  education_GRD  \\\n",
       "0                 0                 0              0              1   \n",
       "1                 0                 0              0              0   \n",
       "2                 0                 0              0              0   \n",
       "3                 0                 0              0              1   \n",
       "4                 0                 0              0              0   \n",
       "\n",
       "   education_PGR  education_SCH  education_UGR  \n",
       "0              0              0              0  \n",
       "1              0              1              0  \n",
       "2              0              1              0  \n",
       "3              0              0              0  \n",
       "4              0              0              1  \n",
       "\n",
       "[5 rows x 37 columns]"
      ]
     },
     "execution_count": 297,
     "metadata": {},
     "output_type": "execute_result"
    }
   ],
   "source": [
    "X_test.head()"
   ]
  },
  {
   "cell_type": "markdown",
   "metadata": {},
   "source": [
    "## 5. Get file with answers"
   ]
  },
  {
   "cell_type": "code",
   "execution_count": 298,
   "metadata": {
    "collapsed": true
   },
   "outputs": [],
   "source": [
    "preds = rf.predict(X_test)"
   ]
  },
  {
   "cell_type": "code",
   "execution_count": 299,
   "metadata": {
    "collapsed": false
   },
   "outputs": [
    {
     "data": {
      "text/plain": [
       "0.05401975713560579"
      ]
     },
     "execution_count": 299,
     "metadata": {},
     "output_type": "execute_result"
    }
   ],
   "source": [
    "preds.mean()"
   ]
  },
  {
   "cell_type": "code",
   "execution_count": 300,
   "metadata": {
    "collapsed": false
   },
   "outputs": [
    {
     "name": "stderr",
     "output_type": "stream",
     "text": [
      "/anaconda3/lib/python3.6/site-packages/ipykernel_launcher.py:1: FutureWarning: reshape is deprecated and will raise in a subsequent release. Please use .values.reshape(...) instead\n",
      "  \"\"\"Entry point for launching an IPython kernel.\n"
     ]
    }
   ],
   "source": [
    "ans = pd.DataFrame(np.concatenate([X_test[\"client_id\"].reshape(-1, 1), preds.reshape(-1, 1)], axis=1), columns=[\"client_id\", \"open_account_flg\"])"
   ]
  },
  {
   "cell_type": "code",
   "execution_count": 301,
   "metadata": {
    "collapsed": true
   },
   "outputs": [],
   "source": [
    "ans.to_csv(\"sampleSubmission.csv\", index=None)"
   ]
  }
 ],
 "metadata": {
  "kernelspec": {
   "display_name": "Python 3",
   "language": "python",
   "name": "python3"
  },
  "language_info": {
   "codemirror_mode": {
    "name": "ipython",
    "version": 3
   },
   "file_extension": ".py",
   "mimetype": "text/x-python",
   "name": "python",
   "nbconvert_exporter": "python",
   "pygments_lexer": "ipython3",
   "version": "3.5.1"
  }
 },
 "nbformat": 4,
 "nbformat_minor": 2
}
